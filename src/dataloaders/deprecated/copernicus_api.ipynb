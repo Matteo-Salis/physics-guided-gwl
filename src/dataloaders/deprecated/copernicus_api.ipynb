{
 "cells": [
  {
   "cell_type": "code",
   "execution_count": null,
   "id": "0ed89bc3",
   "metadata": {},
   "outputs": [],
   "source": [
    "import cdsapi\n",
    "    \n",
    "client = cdsapi.Client()\n",
    "\n",
    "dataset = \"reanalysis-era5-land\"\n",
    "request = {\n",
    "    <SELECTION-REQUEST>\n",
    "}\n",
    "target = \"<TARGET-FILE>\"\n",
    "\n",
    "client.retrieve(dataset, request, target)"
   ]
  }
 ],
 "metadata": {
  "language_info": {
   "name": "python"
  }
 },
 "nbformat": 4,
 "nbformat_minor": 5
}
