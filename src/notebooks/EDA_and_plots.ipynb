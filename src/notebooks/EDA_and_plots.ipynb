{
 "cells": [
  {
   "cell_type": "markdown",
   "metadata": {},
   "source": [
    "# Libraries"
   ]
  },
  {
   "cell_type": "code",
   "execution_count": 2,
   "metadata": {},
   "outputs": [],
   "source": [
    "import os\n",
    "#os.chdir('C:/Users/Matteo Salis/Desktop/Python/water-pinns/src')  # Provide the new path here\n",
    "os.chdir('/leonardo_scratch/fast/IscrC_DL4STP/water-pinns/src')"
   ]
  },
  {
   "cell_type": "code",
   "execution_count": 3,
   "metadata": {},
   "outputs": [],
   "source": [
    "from datetime import datetime"
   ]
  },
  {
   "cell_type": "code",
   "execution_count": 4,
   "metadata": {},
   "outputs": [],
   "source": [
    "from operator import itemgetter\n",
    "from tqdm import tqdm\n",
    "import time\n",
    "from datetime import datetime\n",
    "import json\n",
    "from collections import deque\n",
    "\n",
    "import numpy as np\n",
    "import pandas as pd\n",
    "import geopandas as gpd\n",
    "import xarray\n",
    "import rioxarray\n",
    "import fiona\n",
    "\n",
    "#import matplotlib\n",
    "import matplotlib.pyplot as plt\n",
    "\n",
    "#from rasterio.enums import Resampling\n",
    "\n",
    "import torch\n",
    "from torch.utils.data import Dataset, DataLoader\n",
    "from torch.utils.data.sampler import SequentialSampler\n",
    "from torch.utils.data.sampler import RandomSampler\n",
    "import torch.nn as nn\n",
    "from torch.autograd import Variable\n",
    "\n",
    "import wandb\n",
    "\n",
    "import torchview\n",
    "from torchview import draw_graph\n",
    "\n",
    "from utils.plot import *\n",
    "import importlib\n",
    "\n",
    "import seaborn as sns"
   ]
  },
  {
   "cell_type": "code",
   "execution_count": 5,
   "metadata": {},
   "outputs": [],
   "source": [
    "from dataloaders import dataset_ST_MultiPoint\n",
    "# from dataloaders import load_dataset\n",
    "# from loss import losses_SparseData\n",
    "# from models import models_SparseData\n",
    "# from optimizer import load_optimizer\n",
    "\n",
    "from subprocess import Popen"
   ]
  },
  {
   "cell_type": "markdown",
   "metadata": {},
   "source": [
    "# Load dictionary"
   ]
  },
  {
   "cell_type": "code",
   "execution_count": 6,
   "metadata": {},
   "outputs": [
    {
     "name": "stdout",
     "output_type": "stream",
     "text": [
      "Read data.json: {'cuda_device': 'cuda:0', 'seed': 42, 'entity': 'gsartor-unito', 'experiment_name': 'ST_MultiPoint', 'run_name': 'PI_S_ref', 'comments': None, 'wandb_mode': 'offline', 'wandb_dir': '/leonardo_scratch/fast/IscrC_DL4STP/water-pinns/results/results_ST_MultiPoint/logs', 'save_model_dir': '/leonardo_scratch/fast/IscrC_DL4STP/water-pinns/results/results_ST_MultiPoint/runs', 'dtm_nc': '/leonardo_scratch/fast/IscrC_DL4STP/water-pinns/data/dtm_ROI.nc', 'weather_nc_path': '/leonardo_scratch/fast/IscrC_DL4STP/water-pinns/data/era5land_2000_2024_weekly.nc', 'weather_dtm': '/leonardo_scratch/fast/IscrC_DL4STP/water-pinns/data/era5land_dtm.nc', 'wtd_csv_path': '/leonardo_scratch/fast/IscrC_DL4STP/water-pinns/data/dataset_wtd_roi.csv', 'wtd_shp': '/leonardo_scratch/fast/IscrC_DL4STP/water-pinns/data/shapefile/underground_wtd_sensor_roi.shp', 'piedmont_shp': '/leonardo_scratch/fast/IscrC_DL4STP/water-pinns/data/shapefile/piemonte_admin_boundaries.shp', 'recharge_areas_shp': '/leonardo_scratch/fast/IscrC_DL4STP/water-pinns/data/shapefile/AreeRicaricaAcquiferiProfondi.shp', 'buffer_recharge': 0.05, 'stdout_log_dir': None, 'stderr_log_dir': None, 'dataset_type': 'ST_MultiPoint', 'discard_summer_data': False, 'piezo_head': True, 'relative_target': False, 'nan_treshold': 10, 'fill_value': 'ffill_bfill', 'normalization': True, 'target_norm_type': 'overall_zscore', 'date_max_norm': '2021-12-31', 'temporal_encoding': 'sin', 'all_dataset': True, 'max_ds_elems': None, 'test_split_p': '2021-12-31', 'frequency': 'W', 'random_sampler': True, 'densification_dropout_p': 0.15, 'weather_lags': 4, 'weather_variables': ['tp', 't2m', 'pev', 'smlt'], 'target_lags': [1, 2, 3, 4], 'weather_get_coords': True, 'lat_lon_npoints': [70, 70], 'model': 'ST_MultiPoint_STDisNet_SAGW_K', 'emb_W': '3DCNN', 'model_init': None, 'pretrain_model': None, 'plot_arch': True, 'layernorm_affine': True, 'GW_value_input_dim': 6, 'Weather_value_input_dim': 9, 'st_coords_input_dim': 5, 's_coords_input_dim': 3, 'embedding_dim': 32, 'spatial_mha_heads': 8, 'displacement_mod_blocks': 2, 'displacement_mod_heads': 8, 'activation': 'LeakyReLU', 'model_normalization': 'instancenorm', 'simplified_embedding': True, 'loss': 'mape', 'optimizer': 'adamw', 'momentum': None, 'nesterov': None, 'weight_decay': 0.0025, 'l2_alpha': 0, 'orthogonality_loss_alpha': 0.001, 'layers_orthogonality': 'embedding', 'physics': True, 'physics_scheduling': None, 'physics_scheduling_offset': None, 'coherence_alpha': 1, 'cpoints_start_epoch': 0, 'reg_diffusion_eq': 0.025, 'reg_delta_gw_l2': 0, 'reg_delta_gw_l1': 0, 'reg_K': 0, 'reg_delta_s_l2': 0.0001, 'reg_delta_s_l1': 0.0005, 'reg_delta_gw_s_on_cps': True, 'reg_recharge_areas': 0, 'reg_latlon_smoothness': 0, 'reg_temp_smoothness': 0, 'tstep_control_points': 2, 'lr': 0.00025, 'lr_scheduling': [[400], 0.4], 'batch_size': 32, 'epochs': 850, 'n_pred_plot': 125, 'sensors_to_plot': ['00417910001', '00105910001', '00425010001', '00401210001'], 'map_t_step_to_plot': [0, 78], 'start_dates_plot_training': ['2008-01-06', '2016-01-03'], 'start_dates_plot_test': ['2021-07-04'], 'discard_sensor_list': ['00104810001', '00121510001', '00127210005'], 'sel_sensor_list': None}\n"
     ]
    }
   ],
   "source": [
    "#json_file = \"C:/Users/Matteo Salis/Desktop/Python/water-pinns/config/ST_MultiPoint/ST_MultiPoint_STDisNet_SAGW_PI_ERA5_local.json\" #config_files_1d/lstm_att_1.json\n",
    "json_file = \"/leonardo_scratch/fast/IscrC_DL4STP/water-pinns/config/ST_MultiPoint/ST_MultiPoint_STDisNet_SAGW_PI_ERA5.json\" #config_files_1d/lstm_att_1.json\n",
    "dict_files = {}\n",
    "with open(json_file) as f:\n",
    "    dict_files = json.load(f)\n",
    "    print(f\"Read data.json: {dict_files}\")"
   ]
  },
  {
   "cell_type": "markdown",
   "metadata": {},
   "source": [
    "# Dataset class"
   ]
  },
  {
   "cell_type": "code",
   "execution_count": 7,
   "metadata": {},
   "outputs": [
    {
     "data": {
      "text/plain": [
       "<module 'dataloaders.dataset_ST_MultiPoint' from '/leonardo_scratch/fast/IscrC_DL4STP/water-pinns/src/dataloaders/dataset_ST_MultiPoint.py'>"
      ]
     },
     "execution_count": 7,
     "metadata": {},
     "output_type": "execute_result"
    }
   ],
   "source": [
    "importlib.reload(dataset_ST_MultiPoint)"
   ]
  },
  {
   "cell_type": "code",
   "execution_count": 8,
   "metadata": {},
   "outputs": [
    {
     "name": "stdout",
     "output_type": "stream",
     "text": [
      "    Loading weather data... Done!\n",
      "    Loading dtm... Done!\n",
      "    Loading Piedmont Shapefiles... "
     ]
    },
    {
     "name": "stderr",
     "output_type": "stream",
     "text": [
      "/leonardo_scratch/fast/IscrC_DL4STP/water-pinns/src/dataloaders/dataset_ST_MultiPoint.py:101: UserWarning: Geometry is in a geographic CRS. Results from 'buffer' are likely incorrect. Use 'GeoSeries.to_crs()' to re-project geometries to a projected CRS before this operation.\n",
      "\n",
      "  clipped_buffer = clipped.buffer(buffer_recharge)\n"
     ]
    },
    {
     "name": "stdout",
     "output_type": "stream",
     "text": [
      "Done!\n",
      "    Loading underground water data... Done!\n",
      "    Norm factors:\n",
      "{'target_means': np.float64(297.1249160768408), 'target_stds': np.float64(73.38987997145817), 'dtm_mean': <xarray.DataArray '__xarray_dataarray_variable__' ()> Size: 4B\n",
      "array(1139.4907, dtype=float32)\n",
      "Coordinates:\n",
      "    spatial_ref  int64 8B 0, 'dtm_std': <xarray.DataArray '__xarray_dataarray_variable__' ()> Size: 4B\n",
      "array(884.7991, dtype=float32)\n",
      "Coordinates:\n",
      "    spatial_ref  int64 8B 0, 'lat_mean': np.float64(44.800499999999964), 'lat_std': np.float64(0.3169655454549103), 'lon_mean': np.float64(7.375499999999998), 'lon_std': np.float64(0.4326943495034695), 'weather_mean': <xarray.Dataset> Size: 24B\n",
      "Dimensions:      ()\n",
      "Coordinates:\n",
      "    spatial_ref  int64 8B 0\n",
      "Data variables:\n",
      "    tp           float32 4B 0.001774\n",
      "    t2m          float32 4B 280.5\n",
      "    pev          float32 4B -0.001865\n",
      "    smlt         float32 4B 0.000512, 'weather_std': <xarray.Dataset> Size: 24B\n",
      "Dimensions:      ()\n",
      "Coordinates:\n",
      "    spatial_ref  int64 8B 0\n",
      "Data variables:\n",
      "    tp           float32 4B 0.002025\n",
      "    t2m          float32 4B 8.875\n",
      "    pev          float32 4B 0.001476\n",
      "    smlt         float32 4B 0.001465}\n",
      "    Max date norm: 2021-12-31\n",
      "    Building lagged dataframe... Done!\n"
     ]
    }
   ],
   "source": [
    "ds = dataset_ST_MultiPoint.Dataset_ST_MultiPoint(dict_files)"
   ]
  },
  {
   "cell_type": "markdown",
   "metadata": {},
   "source": [
    "# Maps"
   ]
  },
  {
   "cell_type": "code",
   "execution_count": null,
   "metadata": {},
   "outputs": [],
   "source": [
    "import matplotlib\n",
    "# Colormap\n",
    "import cmasher as cmr\n",
    "# Automatic labeling\n",
    "import adjustText as aT\n",
    "# define box and geometry object\n",
    "import shapely\n",
    "from shapely.geometry import box"
   ]
  },
  {
   "cell_type": "code",
   "execution_count": null,
   "metadata": {},
   "outputs": [],
   "source": [
    "# Italy shp\n",
    "italy_shp = gpd.read_file(\"/leonardo_scratch/fast/IscrC_DL4STP/water-pinns/data/shapefile/Italy_Reg01012024_g_WGS84.shp\", engine='fiona')\n",
    "italy_shp = italy_shp.to_crs('epsg:4326')"
   ]
  },
  {
   "cell_type": "code",
   "execution_count": 9,
   "metadata": {},
   "outputs": [],
   "source": [
    "# extract Province names and coord, useful for plots\n",
    "provinces_names = [ds.piemonte_shp[\"nome\"][i] for i in range(0,len(ds.piemonte_shp))]\n",
    "provinces_long = [ds.piemonte_shp[\"geometry\"][i].representative_point().coords[0][0] for i in range(0,len(ds.piemonte_shp))]\n",
    "provinces_lat = [ds.piemonte_shp[\"geometry\"][i].representative_point().coords[0][1] for i in range(0,len(ds.piemonte_shp))]\n",
    "provinces_lat[-3] = provinces_lat[-3] - 0.25\n",
    "provinces_long[-3] = provinces_long[-3] - 0.05"
   ]
  },
  {
   "cell_type": "code",
   "execution_count": null,
   "metadata": {},
   "outputs": [],
   "source": [
    "# Piedmont DTM (precise border)\n",
    "piemonte_dtm = rioxarray.open_rasterio(\"/leonardo_scratch/fast/IscrC_DL4STP/water-pinns/data/DTMPiemonte_filled_50m.tif\", engine='fiona')\n",
    "piemonte_dtm = piemonte_dtm.rio.reproject(\"epsg:4326\")\n",
    "piemonte_dtm = piemonte_dtm.where(piemonte_dtm != -99999) # Take valid pixel"
   ]
  },
  {
   "cell_type": "code",
   "execution_count": 18,
   "metadata": {},
   "outputs": [],
   "source": [
    "# Load river shp\n",
    "rivers_shp_100 = gpd.read_file(\"/leonardo_scratch/fast/IscrC_DL4STP/water-pinns/data/shapefile/idro100-fiumi.shp\", engine='fiona')\n",
    "rivers_shp_100 = rivers_shp_100.to_crs('epsg:4326')"
   ]
  },
  {
   "cell_type": "code",
   "execution_count": 31,
   "metadata": {},
   "outputs": [],
   "source": [
    "roi_box = [ds.dtm_roi.x.min().values,\n",
    "        ds.dtm_roi.x.max().values,\n",
    "        ds.dtm_roi.y.min().values,\n",
    "        ds.dtm_roi.y.max().values]"
   ]
  },
  {
   "cell_type": "code",
   "execution_count": null,
   "metadata": {},
   "outputs": [],
   "source": [
    "# Compute sensor norm factors \n",
    "target_means = ds.wtd_df[ds.target].groupby(level=1).transform('mean').values\n",
    "target_means = target_means.reshape(len(ds.wtd_df.index)//len(ds.sensor_id_list),\n",
    "                                    len(ds.sensor_id_list))[0,:] \n",
    "target_stds = ds.wtd_df[ds.target].groupby(level=1).transform('std').values\n",
    "target_stds = target_stds.reshape(len(ds.wtd_df.index)//len(ds.sensor_id_list),\n",
    "                                    len(ds.sensor_id_list))[0,:]"
   ]
  },
  {
   "cell_type": "code",
   "execution_count": 33,
   "metadata": {},
   "outputs": [
    {
     "ename": "",
     "evalue": "",
     "output_type": "error",
     "traceback": [
      "\u001b[1;31mThe Kernel crashed while executing code in the current cell or a previous cell. \n",
      "\u001b[1;31mPlease review the code in the cell(s) to identify a possible cause of the failure. \n",
      "\u001b[1;31mClick <a href='https://aka.ms/vscodeJupyterKernelCrash'>here</a> for more info. \n",
      "\u001b[1;31mView Jupyter <a href='command:jupyter.viewOutput'>log</a> for further details."
     ]
    }
   ],
   "source": [
    "fig, ax = plt.subplots(figsize = (7,7))\n",
    "\n",
    "# Log-Scale: Define the ticks\n",
    "cnorm = matplotlib.colors.LogNorm(vmin=piemonte_dtm.min(), vmax=piemonte_dtm.max())\n",
    "decades = np.ceil(np.log10(cnorm.vmax / cnorm.vmin))\n",
    "formatter = matplotlib.ticker.LogFormatter(10, minor_thresholds=(decades, decades))\n",
    "\n",
    "# Plot with lognorm transformation\n",
    "piemonte_elevation = piemonte_dtm.plot(ax = ax, add_colorbar=False,\n",
    "                                      cmap = cmr.get_sub_cmap(plt.cm.terrain, 0.25, 1),\n",
    "                                      norm = matplotlib.colors.LogNorm(vmin = piemonte_dtm.min().values,\n",
    "                                                                       vmax = piemonte_dtm.max().values))\n",
    "ax.set_title(\"Piedmont (IT)\")\n",
    "\n",
    "# Regional shapefile\n",
    "ds.piemonte_shp.boundary.plot(color = 'Black', linewidth = 0.5, alpha = 0.6, ax = ax, label = \"Administrative bounds\")\n",
    "\n",
    "# Rivers\n",
    "rivers_shp_100.loc[rivers_shp_100[\"CLASSE\"] == 1].plot(ax = ax, label = \"100\", linewidth=0.5)\n",
    "\n",
    "\n",
    "# Sensors\n",
    "ds.wtd_geodf.plot(color = \"yellow\", ax = ax,\n",
    "                        markersize = 15, edgecolors = \"darkred\",\n",
    "                        linewidths = 0.75,\n",
    "                        label=\"WTD sensors\",\n",
    "                         zorder=7)\n",
    "\n",
    "# Provinces labels\n",
    "texts = []\n",
    "for x, y, label in zip(provinces_long, provinces_lat, provinces_names):\n",
    "\n",
    "    texts.append(plt.text(x,y,label, ha='center', va='center' ,\n",
    "                          fontsize =10, fontweight = \"bold\", fontstyle = \"italic\", color = \"Black\"))\n",
    "\n",
    "    aT.adjust_text(texts, force_text =(0.1, 0.1), force_explode=(0, 0), #, min_arrow_len = 5\n",
    "                       force_static =(0, 0),\n",
    "                       arrowprops=dict(arrowstyle=\"simple\", linestyle = \"--\", color='dimgrey', lw=1.2))\n",
    "    \n",
    "\n",
    "\n",
    "\n",
    "\n",
    "ax.plot(*roi_box.exterior.xy, label = \"Meteo-box\", color = \"magenta\")\n",
    "\n",
    "# Inset\n",
    "#inset_object = [italy_borders, Piemonte_box.exterior.xy]\n",
    "piemonte_long_min, piemonte_lat_min, piemonte_long_max, piemonte_lat_max = ds.piemonte_shp.total_bounds\n",
    "piemonte_box = box(piemonte_long_min, piemonte_lat_min, piemonte_long_max , piemonte_lat_max)\n",
    "\n",
    "box(piemonte_long_min, piemonte_lat_min, piemonte_long_max , piemonte_lat_max)\n",
    "axins = ax.inset_axes(bounds = [0,0.65,0.35,0.35])\n",
    "italy_shp.boundary.plot(ax = axins, color = 'gray', linewidth = 0.5) # Italy\n",
    "axins.plot(*piemonte_box.exterior.xy, color = \"black\") # Piemonte\n",
    "axins.set_xticks([])\n",
    "axins.set_yticks([])\n",
    "\n",
    "# add min and max values\n",
    "\n",
    "ticks = [cnorm.vmin, 100, 200, 300, 400, 500, 600, 700, 800, 900, 1000, 2000, 3000, 4000]\n",
    "ticks.append(cnorm.vmax)\n",
    "fig.colorbar(ticks=ticks, mappable=piemonte_elevation,\n",
    "                  format = formatter, label = \"DTM [m]\")\n",
    "\n",
    "## North arrow\n",
    "north_x_shift = 1.05\n",
    "north_y_shift = -0.18\n",
    "north_fontsize = 15\n",
    "arrow_dx = 0\n",
    "arrow_dy = 0.1\n",
    "arrow_x_shift = 1.105\n",
    "arrow_y_shift = -0.3\n",
    "arrow_head_width=0.08\n",
    "arrow_head_length=0.1\n",
    "ax.text(x=ax.get_xlim()[0]+north_x_shift, y=ax.get_ylim()[1]+north_y_shift, s='N', fontsize=north_fontsize)\n",
    "ax.arrow(ax.get_xlim()[0]+arrow_x_shift, ax.get_ylim()[1]+arrow_y_shift, arrow_dx, arrow_dy, length_includes_head=True,\n",
    "         head_width=arrow_head_width, head_length=arrow_head_length, overhang=.1, facecolor='k')\n",
    "\n",
    "plt.legend(bbox_to_anchor=(0.825, -0.085) )\n",
    "\n",
    "#plt.savefig(f\"{saving_plots_dir}roi_piemonte.png\", dpi = 400, transparent = True, bbox_inches = 'tight')\n",
    "\n",
    "plt.show()"
   ]
  },
  {
   "cell_type": "markdown",
   "metadata": {},
   "source": [
    "# Time Series"
   ]
  },
  {
   "cell_type": "code",
   "execution_count": null,
   "metadata": {},
   "outputs": [],
   "source": [
    "weekly_sensor_list = ds.sensor_id_list\n",
    "for sensor_idx in range(len(weekly_sensor_list)):\n",
    "        \n",
    "    sensor_series = ds.wtd_df[\"wtd\"].loc[pd.IndexSlice[:, weekly_sensor_list[sensor_idx]]]\n",
    "    \n",
    "    #sensor_series = (sensor_series * ds.norm_factors[\"target_std\"]) + ds.norm_factors[\"target_mean\"]\n",
    "    \n",
    "    sensor_series_dates = sensor_series.index.get_level_values(0)\n",
    "    \n",
    "    municipality = ds.wtd_names.loc[ds.wtd_names[\"sensor_id\"] == weekly_sensor_list[sensor_idx],\n",
    "                                    \"munic\"].values[0]\n",
    "    \n",
    "    fig, ax = plt.subplots(figsize = (25,4))\n",
    "    \n",
    "    fig.suptitle(f\"IDW STATS {municipality} ID Sensor: {weekly_sensor_list[sensor_idx]}\")\n",
    "    \n",
    "    ax.plot(sensor_series_dates,\n",
    "            sensor_series.values, \n",
    "            marker = \"o\",\n",
    "            lw = 0.5,\n",
    "            markersize = 1.5)\n",
    "    \n",
    "    ax.set_ylabel(\"H\")\n",
    "    \n",
    "    date_xticks = pd.date_range(np.datetime64(\"2001-01-01\"), np.datetime64(\"2023-12-31\"), freq = \"6MS\",  normalize = True, inclusive = \"both\")\n",
    "    \n",
    "    ax.set_ylim([sensor_series.min(),\n",
    "                 sensor_series.max()])\n",
    "    \n",
    "    ax.bar(sensor_series_dates[sensor_series.isnull()],\n",
    "                      bottom = ax.get_ylim()[0],\n",
    "                      height = ax.get_ylim()[1],\n",
    "                      width= 5,\n",
    "                      align='center',\n",
    "                      color = 'darkred',\n",
    "                      alpha = 0.4,\n",
    "                      label = \"Water Table\\nMissing Values\", zorder = 0)\n",
    "    \n",
    "    ax.set_xticks(date_xticks, date_xticks.strftime('%d/%m/%Y'))\n",
    "    ax.tick_params(axis = \"x\", rotation=50 )\n",
    "    ax.grid(axis=\"x\", ls = \"--\", which = \"both\", lw = \"1.5\")"
   ]
  }
 ],
 "metadata": {
  "kernelspec": {
   "display_name": ".venv",
   "language": "python",
   "name": "python3"
  },
  "language_info": {
   "codemirror_mode": {
    "name": "ipython",
    "version": 3
   },
   "file_extension": ".py",
   "mimetype": "text/x-python",
   "name": "python",
   "nbconvert_exporter": "python",
   "pygments_lexer": "ipython3",
   "version": "3.11.11"
  }
 },
 "nbformat": 4,
 "nbformat_minor": 2
}
