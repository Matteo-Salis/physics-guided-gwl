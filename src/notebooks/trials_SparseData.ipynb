{
 "cells": [
  {
   "cell_type": "markdown",
   "metadata": {},
   "source": [
    "# Libraries"
   ]
  },
  {
   "cell_type": "code",
   "execution_count": 1,
   "metadata": {},
   "outputs": [],
   "source": [
    "import os\n",
    "os.chdir('/leonardo_scratch/fast/IscrC_DL4EO/github/water-pinns/src')  # Provide the new path here"
   ]
  },
  {
   "cell_type": "code",
   "execution_count": 2,
   "metadata": {},
   "outputs": [],
   "source": [
    "from train_test.load_train import *\n",
    "from train_test.load_test import *"
   ]
  },
  {
   "cell_type": "code",
   "execution_count": 3,
   "metadata": {},
   "outputs": [],
   "source": [
    "from operator import itemgetter\n",
    "from tqdm import tqdm\n",
    "import time\n",
    "from datetime import datetime\n",
    "import json\n",
    "\n",
    "import numpy as np\n",
    "import pandas as pd\n",
    "import geopandas as gpd\n",
    "import xarray\n",
    "import rioxarray\n",
    "import fiona\n",
    "\n",
    "#import matplotlib\n",
    "import matplotlib.pyplot as plt\n",
    "\n",
    "#from rasterio.enums import Resampling\n",
    "\n",
    "import torch\n",
    "from torch.utils.data import Dataset, DataLoader\n",
    "from torch.utils.data.sampler import SequentialSampler\n",
    "from torch.utils.data.sampler import RandomSampler\n",
    "import torch.nn as nn\n",
    "from torch.autograd import Variable\n",
    "\n",
    "import wandb\n",
    "\n",
    "import torchview\n",
    "from torchview import draw_graph\n",
    "\n",
    "from utils.plot import *\n",
    "import importlib\n",
    "\n",
    "import seaborn as sns"
   ]
  },
  {
   "cell_type": "code",
   "execution_count": 4,
   "metadata": {},
   "outputs": [],
   "source": [
    "from dataloaders import dataset_SparseData\n",
    "from dataloaders import load_dataset\n",
    "from loss import losses_SparseData\n",
    "from models import models_SparseData\n",
    "from optimizer import load_optimizer\n",
    "\n",
    "from subprocess import Popen"
   ]
  },
  {
   "cell_type": "markdown",
   "metadata": {},
   "source": [
    "# Load dictionary"
   ]
  },
  {
   "cell_type": "code",
   "execution_count": 5,
   "metadata": {},
   "outputs": [
    {
     "name": "stdout",
     "output_type": "stream",
     "text": [
      "Read data.json: {'cuda_device': 'cuda:0', 'entity': 'gsartor-unito', 'experiment_name': 'SparseData_DL', 'run_name': 'SparseData_Transformer', 'comments': None, 'wandb_dir': '/leonardo_scratch/fast/IscrC_DL4EO/results/results_SparseData/logs', 'save_model_dir': '/leonardo_scratch/fast/IscrC_DL4EO/results/results_SparseData/models', 'dtm_nc': '/leonardo_work/IscrC_DL4EO/trials/data/dtm_ROI.nc', 'weather_nc_path': '/leonardo_work/IscrC_DL4EO/trials/data/meteo_bucket_model_snowpack_ROI_1958_2023.nc', 'weather_dtm': '/leonardo_work/IscrC_DL4EO/trials/data/dtm_ROI_arpa_weather.nc', 'wtd_csv_path': '/leonardo_work/IscrC_DL4EO/trials/data/dataset_wtd_roi.csv', 'wtd_shp': '/leonardo_work/IscrC_DL4EO/trials/data/shapefile/underground_wtd_sensor_roi.shp', 'piedmont_shp': '/leonardo_work/IscrC_DL4EO/trials/data/shapefile/piemonte_admin_boundaries.shp', 'dataset_type': 'Dataset_Sparse', 'piezo_head': True, 'normalization': True, 'target_norm_type': 'overall_zscore', 'date_max_norm': '2017-12-31', 'all_dataset': True, 'max_ds_elems': None, 'fill_value': 0, 'test_split_p': '2017-12-17', 'frequency': 'W', 'random_sampler': True, 'densification_dropout': 0.45, 'spatial_dropout': 0.2, 'twindow': 26, 'weather_CHW_dim': [23, 9, 12], 'weather_lags': 4, 'target_dim': [26, 28], 'weather_get_coords': True, 'upsampling_dim': [26, 42, 62], 'model': 'SparseData_Transformer', 'pretrain_model': None, 'plot_arch': True, 'layernorm_affine': True, 'spatial_embedding_dim': 32, 'spatial_heads': 2, 'fusion_embedding_dim': 64, 'st_heads': 2, 'num_experts': None, 'st_mha_blocks': 1, 'activation': 'LeakyReLU', 'physics': False, 'physics_scheduling': None, 'physics_scheduling_offset': None, 'losses_coeff': None, 'loss': 'mse', 'optimizer': 'adam', 'momentum': None, 'nesterov': None, 'weight_decay': 0.0, 'l2_alpha': 1e-05, 'coeff_data_loss': None, 'coeff_pde_loss': None, 'coeff_superres_loss': None, 'coeff_positive_loss': None, 'ph_params_neurons': None, 'pde_hyd_cond': None, 'num_cpoint_batch': None, 'num_cpoint_instance': None, 'lr': 0.0005, 'lr_scheduling': None, 'batch_size': 32, 'epochs': 100, 'teacher_forcing_scheduling': 'affine', 'teacher_forcing_scheduling_offset': 10, 'twindow_plot': 104, 'sensors_to_plot': ['00417910001', '00105910001', '00425010001', '00401210001', '00408910001'], 'start_dates_plot_training': ['2008-01-06', '2012-06-03'], 'start_dates_plot_test': ['2018-06-03', '2020-01-05'], 'discard_sensor_list': ['00104810001', '00121510001', '00127210005']}\n"
     ]
    }
   ],
   "source": [
    "json_file = \"/leonardo_scratch/fast/IscrC_DL4EO/github/water-pinns/src/configs/SparseData/SparseData_Transformer_0.json\" #config_files_1d/lstm_att_1.json\n",
    "dict_files = {}\n",
    "with open(json_file) as f:\n",
    "    dict_files = json.load(f)\n",
    "    print(f\"Read data.json: {dict_files}\")"
   ]
  },
  {
   "cell_type": "markdown",
   "metadata": {},
   "source": [
    "# Dataset class"
   ]
  },
  {
   "cell_type": "code",
   "execution_count": 6,
   "metadata": {},
   "outputs": [
    {
     "name": "stdout",
     "output_type": "stream",
     "text": [
      "    Loading weather data... Done!\n",
      "    Loading dtm... Done!\n",
      "    Loading underground water data... Done!\n",
      "    Norm factors:\n",
      "{'target_means': np.float64(298.19569411165224), 'target_stds': np.float64(73.65282819016454), 'dtm_mean': <xarray.DataArray '__xarray_dataarray_variable__' ()> Size: 4B\n",
      "array(1139.4907, dtype=float32)\n",
      "Coordinates:\n",
      "    spatial_ref  int64 8B 0, 'dtm_std': <xarray.DataArray '__xarray_dataarray_variable__' ()> Size: 4B\n",
      "array(884.7991, dtype=float32)\n",
      "Coordinates:\n",
      "    spatial_ref  int64 8B 0, 'lat_mean': np.float64(44.8125), 'lat_std': np.float64(0.3227486121839514), 'lon_mean': np.float64(7.375), 'lon_std': np.float64(0.43150656619183286), 'weather_mean': <xarray.Dataset> Size: 24B\n",
      "Dimensions:      ()\n",
      "Coordinates:\n",
      "    spatial_ref  int64 8B 0\n",
      "Data variables:\n",
      "    prec         float32 4B 2.602\n",
      "    tmax         float32 4B 12.35\n",
      "    tmin         float32 4B 5.037\n",
      "    tmean        float32 4B 8.694, 'weather_std': <xarray.Dataset> Size: 24B\n",
      "Dimensions:      ()\n",
      "Coordinates:\n",
      "    spatial_ref  int64 8B 0\n",
      "Data variables:\n",
      "    prec         float32 4B 3.834\n",
      "    tmax         float32 4B 9.061\n",
      "    tmin         float32 4B 7.414\n",
      "    tmean        float32 4B 8.15}\n",
      "    Max date norm: 2017-12-31\n"
     ]
    }
   ],
   "source": [
    "ds = dataset_SparseData.Dataset_Sparse(dict_files)"
   ]
  },
  {
   "cell_type": "code",
   "execution_count": 7,
   "metadata": {},
   "outputs": [
    {
     "data": {
      "application/vnd.microsoft.datawrangler.viewer.v0+json": {
       "columns": [
        {
         "name": "('date', 'sensor_id')",
         "rawType": "object",
         "type": "unknown"
        },
        {
         "name": "wtd",
         "rawType": "float64",
         "type": "float"
        },
        {
         "name": "lon",
         "rawType": "float64",
         "type": "float"
        },
        {
         "name": "lat",
         "rawType": "float64",
         "type": "float"
        },
        {
         "name": "height",
         "rawType": "float32",
         "type": "float"
        },
        {
         "name": "nan_mask",
         "rawType": "bool",
         "type": "boolean"
        },
        {
         "name": "h",
         "rawType": "float64",
         "type": "float"
        }
       ],
       "ref": "317ba2e2-117e-4a38-96ff-2210a618d90f",
       "rows": [
        [
         "(Timestamp('2000-12-31 00:00:00'), '00103510001')",
         null,
         "-0.15410472830348845",
         "0.053733329575563094",
         "-0.86694694",
         "False",
         null
        ],
        [
         "(Timestamp('2000-12-31 00:00:00'), '00104110001')",
         null,
         "0.09408721714505958",
         "0.20269581211112253",
         "-0.9512615",
         "False",
         null
        ],
        [
         "(Timestamp('2000-12-31 00:00:00'), '00105110001')",
         null,
         "0.5184258842444723",
         "0.44635704062619186",
         "-1.0212116",
         "False",
         null
        ],
        [
         "(Timestamp('2000-12-31 00:00:00'), '00105910001')",
         null,
         "0.8083095867660425",
         "0.14983626230590885",
         "-1.0187944",
         "False",
         null
        ],
        [
         "(Timestamp('2000-12-31 00:00:00'), '00105910002')",
         null,
         "0.7226978229952317",
         "0.23372071674757153",
         "-1.0282297",
         "False",
         null
        ],
        [
         "(Timestamp('2000-12-31 00:00:00'), '00107010001')",
         null,
         "0.01396890915802199",
         "-0.07786820689617005",
         "-0.9516032",
         "False",
         null
        ],
        [
         "(Timestamp('2000-12-31 00:00:00'), '00109010001')",
         null,
         "0.4627317867453789",
         "0.8718937049248523",
         "-0.95822936",
         "False",
         null
        ],
        [
         "(Timestamp('2000-12-31 00:00:00'), '00112710001')",
         null,
         "0.6909329781731716",
         "0.4663214266053875",
         "-1.0348811",
         "False",
         null
        ],
        [
         "(Timestamp('2000-12-31 00:00:00'), '00117110001')",
         null,
         "0.36954905279696043",
         "0.6314565224329891",
         "-0.98011357",
         "False",
         null
        ],
        [
         "(Timestamp('2000-12-31 00:00:00'), '00119710001')",
         null,
         "1.0955404256206496",
         "0.34994434147410164",
         "-1.0180601",
         "False",
         null
        ],
        [
         "(Timestamp('2000-12-31 00:00:00'), '00126010001')",
         null,
         "0.277625465536201",
         "0.23839838980166705",
         "-0.9950388",
         "False",
         null
        ],
        [
         "(Timestamp('2000-12-31 00:00:00'), '00127210001')",
         null,
         "0.6501691842750776",
         "0.738963933458663",
         "-1.0052618",
         "False",
         null
        ],
        [
         "(Timestamp('2000-12-31 00:00:00'), '00127210003')",
         null,
         "0.7965306684914875",
         "0.8231021604308209",
         "-1.0432621",
         "False",
         null
        ],
        [
         "(Timestamp('2000-12-31 00:00:00'), '00131010001')",
         null,
         "0.44007400924988693",
         "0.17467244865607184",
         "-1.0114194",
         "False",
         null
        ],
        [
         "(Timestamp('2000-12-31 00:00:00'), '00401210001')",
         null,
         "-0.08231350889259663",
         "-0.25195322690064353",
         "-0.91278",
         "False",
         null
        ],
        [
         "(Timestamp('2000-12-31 00:00:00'), '00402910001')",
         null,
         "1.0909073043911794",
         "-0.3832128483954987",
         "-0.9725712",
         "False",
         null
        ],
        [
         "(Timestamp('2000-12-31 00:00:00'), '00403410001')",
         null,
         "0.26608709462166374",
         "-0.9421174983521056",
         "-0.73491204",
         "False",
         null
        ],
        [
         "(Timestamp('2000-12-31 00:00:00'), '00404110001')",
         null,
         "0.8346110983388462",
         "-0.07893529355769834",
         "-0.9981071",
         "False",
         null
        ],
        [
         "(Timestamp('2000-12-31 00:00:00'), '00405910001')",
         "1.8",
         "0.614797915859051",
         "-0.35211816572467003",
         "-0.96582127",
         "True",
         "-0.20450960381757888"
        ],
        [
         "(Timestamp('2000-12-31 00:00:00'), '00407810001')",
         "39.89738095238095",
         "0.375927653206237",
         "-1.220372119592738",
         "-0.702913",
         "True",
         "2.4365782607932043"
        ],
        [
         "(Timestamp('2000-12-31 00:00:00'), '00408910001')",
         "3.9690476190476187",
         "0.8143572001559617",
         "-0.7581226656727095",
         "-0.886174",
         "True",
         "0.7228513111280596"
        ],
        [
         "(Timestamp('2000-12-31 00:00:00'), '00408910002')",
         null,
         "0.6364932518102533",
         "-1.0021903980993054",
         "-0.8245999",
         "False",
         null
        ],
        [
         "(Timestamp('2000-12-31 00:00:00'), '00414310002')",
         null,
         "0.3575273570158044",
         "-0.14166352717063027",
         "-1.0036486",
         "False",
         null
        ],
        [
         "(Timestamp('2000-12-31 00:00:00'), '00417910001')",
         null,
         "0.7252151058259569",
         "-0.12345636527908466",
         "-0.9972533",
         "False",
         null
        ],
        [
         "(Timestamp('2000-12-31 00:00:00'), '00421510001')",
         null,
         "0.6429132299611255",
         "-0.5160178623918287",
         "-0.9299226",
         "False",
         null
        ],
        [
         "(Timestamp('2000-12-31 00:00:00'), '00421710001')",
         null,
         "0.4465802675331524",
         "-0.3808638855847929",
         "-0.9620271",
         "False",
         null
        ],
        [
         "(Timestamp('2000-12-31 00:00:00'), '00422510001')",
         null,
         "0.3644732830987876",
         "-0.9119228974892802",
         "-0.77724695",
         "False",
         null
        ],
        [
         "(Timestamp('2000-12-31 00:00:00'), '00425010001')",
         null,
         "0.46356928570433376",
         "-0.7510006160891737",
         "-0.85274273",
         "False",
         null
        ],
        [
         "(Timestamp('2001-01-07 00:00:00'), '00103510001')",
         null,
         "-0.15410472830348845",
         "0.053733329575563094",
         "-0.86694694",
         "False",
         null
        ],
        [
         "(Timestamp('2001-01-07 00:00:00'), '00104110001')",
         null,
         "0.09408721714505958",
         "0.20269581211112253",
         "-0.9512615",
         "False",
         null
        ],
        [
         "(Timestamp('2001-01-07 00:00:00'), '00105110001')",
         null,
         "0.5184258842444723",
         "0.44635704062619186",
         "-1.0212116",
         "False",
         null
        ],
        [
         "(Timestamp('2001-01-07 00:00:00'), '00105910001')",
         "5.914166666666667",
         "0.8083095867660425",
         "0.14983626230590885",
         "-1.0187944",
         "True",
         "-0.8967402060994194"
        ],
        [
         "(Timestamp('2001-01-07 00:00:00'), '00105910002')",
         null,
         "0.7226978229952317",
         "0.23372071674757153",
         "-1.0282297",
         "False",
         null
        ],
        [
         "(Timestamp('2001-01-07 00:00:00'), '00107010001')",
         null,
         "0.01396890915802199",
         "-0.07786820689617005",
         "-0.9516032",
         "False",
         null
        ],
        [
         "(Timestamp('2001-01-07 00:00:00'), '00109010001')",
         null,
         "0.4627317867453789",
         "0.8718937049248523",
         "-0.95822936",
         "False",
         null
        ],
        [
         "(Timestamp('2001-01-07 00:00:00'), '00112710001')",
         "4.5337499999999995",
         "0.6909329781731716",
         "0.4663214266053875",
         "-1.0348811",
         "True",
         "-1.0712501323758066"
        ],
        [
         "(Timestamp('2001-01-07 00:00:00'), '00117110001')",
         null,
         "0.36954905279696043",
         "0.6314565224329891",
         "-0.98011357",
         "False",
         null
        ],
        [
         "(Timestamp('2001-01-07 00:00:00'), '00119710001')",
         null,
         "1.0955404256206496",
         "0.34994434147410164",
         "-1.0180601",
         "False",
         null
        ],
        [
         "(Timestamp('2001-01-07 00:00:00'), '00126010001')",
         "1.2237500000000001",
         "0.277625465536201",
         "0.23839838980166705",
         "-0.9950388",
         "True",
         "-0.5476791014976365"
        ],
        [
         "(Timestamp('2001-01-07 00:00:00'), '00127210001')",
         null,
         "0.6501691842750776",
         "0.738963933458663",
         "-1.0052618",
         "False",
         null
        ],
        [
         "(Timestamp('2001-01-07 00:00:00'), '00127210003')",
         null,
         "0.7965306684914875",
         "0.8231021604308209",
         "-1.0432621",
         "False",
         null
        ],
        [
         "(Timestamp('2001-01-07 00:00:00'), '00131010001')",
         null,
         "0.44007400924988693",
         "0.17467244865607184",
         "-1.0114194",
         "False",
         null
        ],
        [
         "(Timestamp('2001-01-07 00:00:00'), '00401210001')",
         null,
         "-0.08231350889259663",
         "-0.25195322690064353",
         "-0.91278",
         "False",
         null
        ],
        [
         "(Timestamp('2001-01-07 00:00:00'), '00402910001')",
         null,
         "1.0909073043911794",
         "-0.3832128483954987",
         "-0.9725712",
         "False",
         null
        ],
        [
         "(Timestamp('2001-01-07 00:00:00'), '00403410001')",
         null,
         "0.26608709462166374",
         "-0.9421174983521056",
         "-0.73491204",
         "False",
         null
        ],
        [
         "(Timestamp('2001-01-07 00:00:00'), '00404110001')",
         null,
         "0.8346110983388462",
         "-0.07893529355769834",
         "-0.9981071",
         "False",
         null
        ],
        [
         "(Timestamp('2001-01-07 00:00:00'), '00405910001')",
         "1.8",
         "0.614797915859051",
         "-0.35211816572467003",
         "-0.96582127",
         "True",
         "-0.20450960381757888"
        ],
        [
         "(Timestamp('2001-01-07 00:00:00'), '00407810001')",
         "39.994523809523805",
         "0.375927653206237",
         "-1.220372119592738",
         "-0.702913",
         "True",
         "2.4352593317102365"
        ],
        [
         "(Timestamp('2001-01-07 00:00:00'), '00408910001')",
         "3.9288095238095235",
         "0.8143572001559617",
         "-0.7581226656727095",
         "-0.886174",
         "True",
         "0.7233976322433081"
        ],
        [
         "(Timestamp('2001-01-07 00:00:00'), '00408910002')",
         null,
         "0.6364932518102533",
         "-1.0021903980993054",
         "-0.8245999",
         "False",
         null
        ]
       ],
       "shape": {
        "columns": 6,
        "rows": 33600
       }
      },
      "text/html": [
       "<div>\n",
       "<style scoped>\n",
       "    .dataframe tbody tr th:only-of-type {\n",
       "        vertical-align: middle;\n",
       "    }\n",
       "\n",
       "    .dataframe tbody tr th {\n",
       "        vertical-align: top;\n",
       "    }\n",
       "\n",
       "    .dataframe thead th {\n",
       "        text-align: right;\n",
       "    }\n",
       "</style>\n",
       "<table border=\"1\" class=\"dataframe\">\n",
       "  <thead>\n",
       "    <tr style=\"text-align: right;\">\n",
       "      <th></th>\n",
       "      <th></th>\n",
       "      <th>wtd</th>\n",
       "      <th>lon</th>\n",
       "      <th>lat</th>\n",
       "      <th>height</th>\n",
       "      <th>nan_mask</th>\n",
       "      <th>h</th>\n",
       "    </tr>\n",
       "    <tr>\n",
       "      <th>date</th>\n",
       "      <th>sensor_id</th>\n",
       "      <th></th>\n",
       "      <th></th>\n",
       "      <th></th>\n",
       "      <th></th>\n",
       "      <th></th>\n",
       "      <th></th>\n",
       "    </tr>\n",
       "  </thead>\n",
       "  <tbody>\n",
       "    <tr>\n",
       "      <th rowspan=\"5\" valign=\"top\">2000-12-31</th>\n",
       "      <th>00103510001</th>\n",
       "      <td>NaN</td>\n",
       "      <td>-0.154105</td>\n",
       "      <td>0.053733</td>\n",
       "      <td>-0.866947</td>\n",
       "      <td>False</td>\n",
       "      <td>NaN</td>\n",
       "    </tr>\n",
       "    <tr>\n",
       "      <th>00104110001</th>\n",
       "      <td>NaN</td>\n",
       "      <td>0.094087</td>\n",
       "      <td>0.202696</td>\n",
       "      <td>-0.951262</td>\n",
       "      <td>False</td>\n",
       "      <td>NaN</td>\n",
       "    </tr>\n",
       "    <tr>\n",
       "      <th>00105110001</th>\n",
       "      <td>NaN</td>\n",
       "      <td>0.518426</td>\n",
       "      <td>0.446357</td>\n",
       "      <td>-1.021212</td>\n",
       "      <td>False</td>\n",
       "      <td>NaN</td>\n",
       "    </tr>\n",
       "    <tr>\n",
       "      <th>00105910001</th>\n",
       "      <td>NaN</td>\n",
       "      <td>0.808310</td>\n",
       "      <td>0.149836</td>\n",
       "      <td>-1.018794</td>\n",
       "      <td>False</td>\n",
       "      <td>NaN</td>\n",
       "    </tr>\n",
       "    <tr>\n",
       "      <th>00105910002</th>\n",
       "      <td>NaN</td>\n",
       "      <td>0.722698</td>\n",
       "      <td>0.233721</td>\n",
       "      <td>-1.028230</td>\n",
       "      <td>False</td>\n",
       "      <td>NaN</td>\n",
       "    </tr>\n",
       "    <tr>\n",
       "      <th>...</th>\n",
       "      <th>...</th>\n",
       "      <td>...</td>\n",
       "      <td>...</td>\n",
       "      <td>...</td>\n",
       "      <td>...</td>\n",
       "      <td>...</td>\n",
       "      <td>...</td>\n",
       "    </tr>\n",
       "    <tr>\n",
       "      <th rowspan=\"5\" valign=\"top\">2023-12-24</th>\n",
       "      <th>00417910001</th>\n",
       "      <td>5.068571</td>\n",
       "      <td>0.725215</td>\n",
       "      <td>-0.123456</td>\n",
       "      <td>-0.997253</td>\n",
       "      <td>True</td>\n",
       "      <td>-0.626484</td>\n",
       "    </tr>\n",
       "    <tr>\n",
       "      <th>00421510001</th>\n",
       "      <td>3.931905</td>\n",
       "      <td>0.642913</td>\n",
       "      <td>-0.516018</td>\n",
       "      <td>-0.929923</td>\n",
       "      <td>True</td>\n",
       "      <td>0.197800</td>\n",
       "    </tr>\n",
       "    <tr>\n",
       "      <th>00421710001</th>\n",
       "      <td>6.553762</td>\n",
       "      <td>0.446580</td>\n",
       "      <td>-0.380864</td>\n",
       "      <td>-0.962027</td>\n",
       "      <td>True</td>\n",
       "      <td>-0.223473</td>\n",
       "    </tr>\n",
       "    <tr>\n",
       "      <th>00422510001</th>\n",
       "      <td>26.085667</td>\n",
       "      <td>0.364473</td>\n",
       "      <td>-0.911923</td>\n",
       "      <td>-0.777247</td>\n",
       "      <td>True</td>\n",
       "      <td>1.731121</td>\n",
       "    </tr>\n",
       "    <tr>\n",
       "      <th>00425010001</th>\n",
       "      <td>4.953333</td>\n",
       "      <td>0.463569</td>\n",
       "      <td>-0.751001</td>\n",
       "      <td>-0.852743</td>\n",
       "      <td>True</td>\n",
       "      <td>1.111101</td>\n",
       "    </tr>\n",
       "  </tbody>\n",
       "</table>\n",
       "<p>33600 rows × 6 columns</p>\n",
       "</div>"
      ],
      "text/plain": [
       "                              wtd       lon       lat    height  nan_mask  \\\n",
       "date       sensor_id                                                        \n",
       "2000-12-31 00103510001        NaN -0.154105  0.053733 -0.866947     False   \n",
       "           00104110001        NaN  0.094087  0.202696 -0.951262     False   \n",
       "           00105110001        NaN  0.518426  0.446357 -1.021212     False   \n",
       "           00105910001        NaN  0.808310  0.149836 -1.018794     False   \n",
       "           00105910002        NaN  0.722698  0.233721 -1.028230     False   \n",
       "...                           ...       ...       ...       ...       ...   \n",
       "2023-12-24 00417910001   5.068571  0.725215 -0.123456 -0.997253      True   \n",
       "           00421510001   3.931905  0.642913 -0.516018 -0.929923      True   \n",
       "           00421710001   6.553762  0.446580 -0.380864 -0.962027      True   \n",
       "           00422510001  26.085667  0.364473 -0.911923 -0.777247      True   \n",
       "           00425010001   4.953333  0.463569 -0.751001 -0.852743      True   \n",
       "\n",
       "                               h  \n",
       "date       sensor_id              \n",
       "2000-12-31 00103510001       NaN  \n",
       "           00104110001       NaN  \n",
       "           00105110001       NaN  \n",
       "           00105910001       NaN  \n",
       "           00105910002       NaN  \n",
       "...                          ...  \n",
       "2023-12-24 00417910001 -0.626484  \n",
       "           00421510001  0.197800  \n",
       "           00421710001 -0.223473  \n",
       "           00422510001  1.731121  \n",
       "           00425010001  1.111101  \n",
       "\n",
       "[33600 rows x 6 columns]"
      ]
     },
     "execution_count": 7,
     "metadata": {},
     "output_type": "execute_result"
    }
   ],
   "source": [
    "ds.wtd_df"
   ]
  },
  {
   "cell_type": "code",
   "execution_count": 8,
   "metadata": {},
   "outputs": [
    {
     "data": {
      "text/html": [
       "<div><svg style=\"position: absolute; width: 0; height: 0; overflow: hidden\">\n",
       "<defs>\n",
       "<symbol id=\"icon-database\" viewBox=\"0 0 32 32\">\n",
       "<path d=\"M16 0c-8.837 0-16 2.239-16 5v4c0 2.761 7.163 5 16 5s16-2.239 16-5v-4c0-2.761-7.163-5-16-5z\"></path>\n",
       "<path d=\"M16 17c-8.837 0-16-2.239-16-5v6c0 2.761 7.163 5 16 5s16-2.239 16-5v-6c0 2.761-7.163 5-16 5z\"></path>\n",
       "<path d=\"M16 26c-8.837 0-16-2.239-16-5v6c0 2.761 7.163 5 16 5s16-2.239 16-5v-6c0 2.761-7.163 5-16 5z\"></path>\n",
       "</symbol>\n",
       "<symbol id=\"icon-file-text2\" viewBox=\"0 0 32 32\">\n",
       "<path d=\"M28.681 7.159c-0.694-0.947-1.662-2.053-2.724-3.116s-2.169-2.030-3.116-2.724c-1.612-1.182-2.393-1.319-2.841-1.319h-15.5c-1.378 0-2.5 1.121-2.5 2.5v27c0 1.378 1.122 2.5 2.5 2.5h23c1.378 0 2.5-1.122 2.5-2.5v-19.5c0-0.448-0.137-1.23-1.319-2.841zM24.543 5.457c0.959 0.959 1.712 1.825 2.268 2.543h-4.811v-4.811c0.718 0.556 1.584 1.309 2.543 2.268zM28 29.5c0 0.271-0.229 0.5-0.5 0.5h-23c-0.271 0-0.5-0.229-0.5-0.5v-27c0-0.271 0.229-0.5 0.5-0.5 0 0 15.499-0 15.5 0v7c0 0.552 0.448 1 1 1h7v19.5z\"></path>\n",
       "<path d=\"M23 26h-14c-0.552 0-1-0.448-1-1s0.448-1 1-1h14c0.552 0 1 0.448 1 1s-0.448 1-1 1z\"></path>\n",
       "<path d=\"M23 22h-14c-0.552 0-1-0.448-1-1s0.448-1 1-1h14c0.552 0 1 0.448 1 1s-0.448 1-1 1z\"></path>\n",
       "<path d=\"M23 18h-14c-0.552 0-1-0.448-1-1s0.448-1 1-1h14c0.552 0 1 0.448 1 1s-0.448 1-1 1z\"></path>\n",
       "</symbol>\n",
       "</defs>\n",
       "</svg>\n",
       "<style>/* CSS stylesheet for displaying xarray objects in jupyterlab.\n",
       " *\n",
       " */\n",
       "\n",
       ":root {\n",
       "  --xr-font-color0: var(--jp-content-font-color0, rgba(0, 0, 0, 1));\n",
       "  --xr-font-color2: var(--jp-content-font-color2, rgba(0, 0, 0, 0.54));\n",
       "  --xr-font-color3: var(--jp-content-font-color3, rgba(0, 0, 0, 0.38));\n",
       "  --xr-border-color: var(--jp-border-color2, #e0e0e0);\n",
       "  --xr-disabled-color: var(--jp-layout-color3, #bdbdbd);\n",
       "  --xr-background-color: var(--jp-layout-color0, white);\n",
       "  --xr-background-color-row-even: var(--jp-layout-color1, white);\n",
       "  --xr-background-color-row-odd: var(--jp-layout-color2, #eeeeee);\n",
       "}\n",
       "\n",
       "html[theme=dark],\n",
       "html[data-theme=dark],\n",
       "body[data-theme=dark],\n",
       "body.vscode-dark {\n",
       "  --xr-font-color0: rgba(255, 255, 255, 1);\n",
       "  --xr-font-color2: rgba(255, 255, 255, 0.54);\n",
       "  --xr-font-color3: rgba(255, 255, 255, 0.38);\n",
       "  --xr-border-color: #1F1F1F;\n",
       "  --xr-disabled-color: #515151;\n",
       "  --xr-background-color: #111111;\n",
       "  --xr-background-color-row-even: #111111;\n",
       "  --xr-background-color-row-odd: #313131;\n",
       "}\n",
       "\n",
       ".xr-wrap {\n",
       "  display: block !important;\n",
       "  min-width: 300px;\n",
       "  max-width: 700px;\n",
       "}\n",
       "\n",
       ".xr-text-repr-fallback {\n",
       "  /* fallback to plain text repr when CSS is not injected (untrusted notebook) */\n",
       "  display: none;\n",
       "}\n",
       "\n",
       ".xr-header {\n",
       "  padding-top: 6px;\n",
       "  padding-bottom: 6px;\n",
       "  margin-bottom: 4px;\n",
       "  border-bottom: solid 1px var(--xr-border-color);\n",
       "}\n",
       "\n",
       ".xr-header > div,\n",
       ".xr-header > ul {\n",
       "  display: inline;\n",
       "  margin-top: 0;\n",
       "  margin-bottom: 0;\n",
       "}\n",
       "\n",
       ".xr-obj-type,\n",
       ".xr-array-name {\n",
       "  margin-left: 2px;\n",
       "  margin-right: 10px;\n",
       "}\n",
       "\n",
       ".xr-obj-type {\n",
       "  color: var(--xr-font-color2);\n",
       "}\n",
       "\n",
       ".xr-sections {\n",
       "  padding-left: 0 !important;\n",
       "  display: grid;\n",
       "  grid-template-columns: 150px auto auto 1fr 0 20px 0 20px;\n",
       "}\n",
       "\n",
       ".xr-section-item {\n",
       "  display: contents;\n",
       "}\n",
       "\n",
       ".xr-section-item input {\n",
       "  display: inline-block;\n",
       "  opacity: 0;\n",
       "}\n",
       "\n",
       ".xr-section-item input + label {\n",
       "  color: var(--xr-disabled-color);\n",
       "}\n",
       "\n",
       ".xr-section-item input:enabled + label {\n",
       "  cursor: pointer;\n",
       "  color: var(--xr-font-color2);\n",
       "}\n",
       "\n",
       ".xr-section-item input:focus + label {\n",
       "  border: 2px solid var(--xr-font-color0);\n",
       "}\n",
       "\n",
       ".xr-section-item input:enabled + label:hover {\n",
       "  color: var(--xr-font-color0);\n",
       "}\n",
       "\n",
       ".xr-section-summary {\n",
       "  grid-column: 1;\n",
       "  color: var(--xr-font-color2);\n",
       "  font-weight: 500;\n",
       "}\n",
       "\n",
       ".xr-section-summary > span {\n",
       "  display: inline-block;\n",
       "  padding-left: 0.5em;\n",
       "}\n",
       "\n",
       ".xr-section-summary-in:disabled + label {\n",
       "  color: var(--xr-font-color2);\n",
       "}\n",
       "\n",
       ".xr-section-summary-in + label:before {\n",
       "  display: inline-block;\n",
       "  content: '►';\n",
       "  font-size: 11px;\n",
       "  width: 15px;\n",
       "  text-align: center;\n",
       "}\n",
       "\n",
       ".xr-section-summary-in:disabled + label:before {\n",
       "  color: var(--xr-disabled-color);\n",
       "}\n",
       "\n",
       ".xr-section-summary-in:checked + label:before {\n",
       "  content: '▼';\n",
       "}\n",
       "\n",
       ".xr-section-summary-in:checked + label > span {\n",
       "  display: none;\n",
       "}\n",
       "\n",
       ".xr-section-summary,\n",
       ".xr-section-inline-details {\n",
       "  padding-top: 4px;\n",
       "  padding-bottom: 4px;\n",
       "}\n",
       "\n",
       ".xr-section-inline-details {\n",
       "  grid-column: 2 / -1;\n",
       "}\n",
       "\n",
       ".xr-section-details {\n",
       "  display: none;\n",
       "  grid-column: 1 / -1;\n",
       "  margin-bottom: 5px;\n",
       "}\n",
       "\n",
       ".xr-section-summary-in:checked ~ .xr-section-details {\n",
       "  display: contents;\n",
       "}\n",
       "\n",
       ".xr-array-wrap {\n",
       "  grid-column: 1 / -1;\n",
       "  display: grid;\n",
       "  grid-template-columns: 20px auto;\n",
       "}\n",
       "\n",
       ".xr-array-wrap > label {\n",
       "  grid-column: 1;\n",
       "  vertical-align: top;\n",
       "}\n",
       "\n",
       ".xr-preview {\n",
       "  color: var(--xr-font-color3);\n",
       "}\n",
       "\n",
       ".xr-array-preview,\n",
       ".xr-array-data {\n",
       "  padding: 0 5px !important;\n",
       "  grid-column: 2;\n",
       "}\n",
       "\n",
       ".xr-array-data,\n",
       ".xr-array-in:checked ~ .xr-array-preview {\n",
       "  display: none;\n",
       "}\n",
       "\n",
       ".xr-array-in:checked ~ .xr-array-data,\n",
       ".xr-array-preview {\n",
       "  display: inline-block;\n",
       "}\n",
       "\n",
       ".xr-dim-list {\n",
       "  display: inline-block !important;\n",
       "  list-style: none;\n",
       "  padding: 0 !important;\n",
       "  margin: 0;\n",
       "}\n",
       "\n",
       ".xr-dim-list li {\n",
       "  display: inline-block;\n",
       "  padding: 0;\n",
       "  margin: 0;\n",
       "}\n",
       "\n",
       ".xr-dim-list:before {\n",
       "  content: '(';\n",
       "}\n",
       "\n",
       ".xr-dim-list:after {\n",
       "  content: ')';\n",
       "}\n",
       "\n",
       ".xr-dim-list li:not(:last-child):after {\n",
       "  content: ',';\n",
       "  padding-right: 5px;\n",
       "}\n",
       "\n",
       ".xr-has-index {\n",
       "  font-weight: bold;\n",
       "}\n",
       "\n",
       ".xr-var-list,\n",
       ".xr-var-item {\n",
       "  display: contents;\n",
       "}\n",
       "\n",
       ".xr-var-item > div,\n",
       ".xr-var-item label,\n",
       ".xr-var-item > .xr-var-name span {\n",
       "  background-color: var(--xr-background-color-row-even);\n",
       "  margin-bottom: 0;\n",
       "}\n",
       "\n",
       ".xr-var-item > .xr-var-name:hover span {\n",
       "  padding-right: 5px;\n",
       "}\n",
       "\n",
       ".xr-var-list > li:nth-child(odd) > div,\n",
       ".xr-var-list > li:nth-child(odd) > label,\n",
       ".xr-var-list > li:nth-child(odd) > .xr-var-name span {\n",
       "  background-color: var(--xr-background-color-row-odd);\n",
       "}\n",
       "\n",
       ".xr-var-name {\n",
       "  grid-column: 1;\n",
       "}\n",
       "\n",
       ".xr-var-dims {\n",
       "  grid-column: 2;\n",
       "}\n",
       "\n",
       ".xr-var-dtype {\n",
       "  grid-column: 3;\n",
       "  text-align: right;\n",
       "  color: var(--xr-font-color2);\n",
       "}\n",
       "\n",
       ".xr-var-preview {\n",
       "  grid-column: 4;\n",
       "}\n",
       "\n",
       ".xr-index-preview {\n",
       "  grid-column: 2 / 5;\n",
       "  color: var(--xr-font-color2);\n",
       "}\n",
       "\n",
       ".xr-var-name,\n",
       ".xr-var-dims,\n",
       ".xr-var-dtype,\n",
       ".xr-preview,\n",
       ".xr-attrs dt {\n",
       "  white-space: nowrap;\n",
       "  overflow: hidden;\n",
       "  text-overflow: ellipsis;\n",
       "  padding-right: 10px;\n",
       "}\n",
       "\n",
       ".xr-var-name:hover,\n",
       ".xr-var-dims:hover,\n",
       ".xr-var-dtype:hover,\n",
       ".xr-attrs dt:hover {\n",
       "  overflow: visible;\n",
       "  width: auto;\n",
       "  z-index: 1;\n",
       "}\n",
       "\n",
       ".xr-var-attrs,\n",
       ".xr-var-data,\n",
       ".xr-index-data {\n",
       "  display: none;\n",
       "  background-color: var(--xr-background-color) !important;\n",
       "  padding-bottom: 5px !important;\n",
       "}\n",
       "\n",
       ".xr-var-attrs-in:checked ~ .xr-var-attrs,\n",
       ".xr-var-data-in:checked ~ .xr-var-data,\n",
       ".xr-index-data-in:checked ~ .xr-index-data {\n",
       "  display: block;\n",
       "}\n",
       "\n",
       ".xr-var-data > table {\n",
       "  float: right;\n",
       "}\n",
       "\n",
       ".xr-var-name span,\n",
       ".xr-var-data,\n",
       ".xr-index-name div,\n",
       ".xr-index-data,\n",
       ".xr-attrs {\n",
       "  padding-left: 25px !important;\n",
       "}\n",
       "\n",
       ".xr-attrs,\n",
       ".xr-var-attrs,\n",
       ".xr-var-data,\n",
       ".xr-index-data {\n",
       "  grid-column: 1 / -1;\n",
       "}\n",
       "\n",
       "dl.xr-attrs {\n",
       "  padding: 0;\n",
       "  margin: 0;\n",
       "  display: grid;\n",
       "  grid-template-columns: 125px auto;\n",
       "}\n",
       "\n",
       ".xr-attrs dt,\n",
       ".xr-attrs dd {\n",
       "  padding: 0;\n",
       "  margin: 0;\n",
       "  float: left;\n",
       "  padding-right: 10px;\n",
       "  width: auto;\n",
       "}\n",
       "\n",
       ".xr-attrs dt {\n",
       "  font-weight: normal;\n",
       "  grid-column: 1;\n",
       "}\n",
       "\n",
       ".xr-attrs dt:hover span {\n",
       "  display: inline-block;\n",
       "  background: var(--xr-background-color);\n",
       "  padding-right: 10px;\n",
       "}\n",
       "\n",
       ".xr-attrs dd {\n",
       "  grid-column: 2;\n",
       "  white-space: pre-wrap;\n",
       "  word-break: break-all;\n",
       "}\n",
       "\n",
       ".xr-icon-database,\n",
       ".xr-icon-file-text2,\n",
       ".xr-no-icon {\n",
       "  display: inline-block;\n",
       "  vertical-align: middle;\n",
       "  width: 1em;\n",
       "  height: 1.5em !important;\n",
       "  stroke-width: 0;\n",
       "  stroke: currentColor;\n",
       "  fill: currentColor;\n",
       "}\n",
       "</style><pre class='xr-text-repr-fallback'>&lt;xarray.Dataset&gt; Size: 6MB\n",
       "Dimensions:      (time: 3410, lat: 9, lon: 12)\n",
       "Coordinates:\n",
       "  * lon          (lon) float64 96B 6.688 6.813 6.938 7.063 ... 7.813 7.938 8.063\n",
       "  * lat          (lat) float64 72B 45.31 45.19 45.06 44.94 ... 44.56 44.44 44.31\n",
       "  * time         (time) datetime64[ns] 27kB 1958-08-24 1958-08-31 ... 2023-12-24\n",
       "    spatial_ref  int64 8B 0\n",
       "Data variables:\n",
       "    prec         (time, lat, lon) float32 1MB -0.6083 -0.6096 ... -0.6293\n",
       "    tmax         (time, lat, lon) float32 1MB 0.8723 0.9537 ... -0.1744 0.01484\n",
       "    tmin         (time, lat, lon) float32 1MB 0.1323 0.1569 ... -0.7279 -0.665\n",
       "    tmean        (time, lat, lon) float32 1MB 0.5023 0.5553 ... -0.4512 -0.3251\n",
       "Attributes:\n",
       "    CDI:          Climate Data Interface version 2.1.1 (https://mpimet.mpg.de...\n",
       "    Conventions:  CF-1.6\n",
       "    history:      Tue May 14 07:41:14 2024: cdo -r settaxis,1957-12-01,12:00,...\n",
       "    CDO:          Climate Data Operators version 2.1.1 (https://mpimet.mpg.de...</pre><div class='xr-wrap' style='display:none'><div class='xr-header'><div class='xr-obj-type'>xarray.Dataset</div></div><ul class='xr-sections'><li class='xr-section-item'><input id='section-e09f23c9-d97f-4ead-9bd3-3342e515ac23' class='xr-section-summary-in' type='checkbox' disabled ><label for='section-e09f23c9-d97f-4ead-9bd3-3342e515ac23' class='xr-section-summary'  title='Expand/collapse section'>Dimensions:</label><div class='xr-section-inline-details'><ul class='xr-dim-list'><li><span class='xr-has-index'>time</span>: 3410</li><li><span class='xr-has-index'>lat</span>: 9</li><li><span class='xr-has-index'>lon</span>: 12</li></ul></div><div class='xr-section-details'></div></li><li class='xr-section-item'><input id='section-32cb02f6-0aa8-43a9-b398-93212a6ee306' class='xr-section-summary-in' type='checkbox'  checked><label for='section-32cb02f6-0aa8-43a9-b398-93212a6ee306' class='xr-section-summary' >Coordinates: <span>(4)</span></label><div class='xr-section-inline-details'></div><div class='xr-section-details'><ul class='xr-var-list'><li class='xr-var-item'><div class='xr-var-name'><span class='xr-has-index'>lon</span></div><div class='xr-var-dims'>(lon)</div><div class='xr-var-dtype'>float64</div><div class='xr-var-preview xr-preview'>6.688 6.813 6.938 ... 7.938 8.063</div><input id='attrs-cd478336-a397-41c1-a412-90eb5d9680c4' class='xr-var-attrs-in' type='checkbox' ><label for='attrs-cd478336-a397-41c1-a412-90eb5d9680c4' title='Show/Hide attributes'><svg class='icon xr-icon-file-text2'><use xlink:href='#icon-file-text2'></use></svg></label><input id='data-07afbdec-a5e3-4287-97f3-b089a8a84865' class='xr-var-data-in' type='checkbox'><label for='data-07afbdec-a5e3-4287-97f3-b089a8a84865' title='Show/Hide data repr'><svg class='icon xr-icon-database'><use xlink:href='#icon-database'></use></svg></label><div class='xr-var-attrs'><dl class='xr-attrs'><dt><span>standard_name :</span></dt><dd>longitude</dd><dt><span>long_name :</span></dt><dd>longitude</dd><dt><span>units :</span></dt><dd>degrees_east</dd><dt><span>axis :</span></dt><dd>X</dd></dl></div><div class='xr-var-data'><pre>array([6.688, 6.813, 6.938, 7.063, 7.188, 7.313, 7.438, 7.563, 7.688, 7.813,\n",
       "       7.938, 8.063])</pre></div></li><li class='xr-var-item'><div class='xr-var-name'><span class='xr-has-index'>lat</span></div><div class='xr-var-dims'>(lat)</div><div class='xr-var-dtype'>float64</div><div class='xr-var-preview xr-preview'>45.31 45.19 45.06 ... 44.44 44.31</div><input id='attrs-aeb93ebb-a8fc-4762-94bc-ccd9ec5c0422' class='xr-var-attrs-in' type='checkbox' ><label for='attrs-aeb93ebb-a8fc-4762-94bc-ccd9ec5c0422' title='Show/Hide attributes'><svg class='icon xr-icon-file-text2'><use xlink:href='#icon-file-text2'></use></svg></label><input id='data-61652e81-0a57-4ffa-86b1-411ad8e8be29' class='xr-var-data-in' type='checkbox'><label for='data-61652e81-0a57-4ffa-86b1-411ad8e8be29' title='Show/Hide data repr'><svg class='icon xr-icon-database'><use xlink:href='#icon-database'></use></svg></label><div class='xr-var-attrs'><dl class='xr-attrs'><dt><span>standard_name :</span></dt><dd>latitude</dd><dt><span>long_name :</span></dt><dd>latitude</dd><dt><span>units :</span></dt><dd>degrees_north</dd><dt><span>axis :</span></dt><dd>Y</dd></dl></div><div class='xr-var-data'><pre>array([45.313, 45.188, 45.063, 44.938, 44.813, 44.688, 44.563, 44.438, 44.313])</pre></div></li><li class='xr-var-item'><div class='xr-var-name'><span class='xr-has-index'>time</span></div><div class='xr-var-dims'>(time)</div><div class='xr-var-dtype'>datetime64[ns]</div><div class='xr-var-preview xr-preview'>1958-08-24 ... 2023-12-24</div><input id='attrs-2c649e0c-6344-4306-9439-33fcdc61f607' class='xr-var-attrs-in' type='checkbox' ><label for='attrs-2c649e0c-6344-4306-9439-33fcdc61f607' title='Show/Hide attributes'><svg class='icon xr-icon-file-text2'><use xlink:href='#icon-file-text2'></use></svg></label><input id='data-a3555dcc-e5cf-4354-a65f-2bf2703ee56a' class='xr-var-data-in' type='checkbox'><label for='data-a3555dcc-e5cf-4354-a65f-2bf2703ee56a' title='Show/Hide data repr'><svg class='icon xr-icon-database'><use xlink:href='#icon-database'></use></svg></label><div class='xr-var-attrs'><dl class='xr-attrs'><dt><span>standard_name :</span></dt><dd>time</dd><dt><span>axis :</span></dt><dd>T</dd></dl></div><div class='xr-var-data'><pre>array([&#x27;1958-08-24T00:00:00.000000000&#x27;, &#x27;1958-08-31T00:00:00.000000000&#x27;,\n",
       "       &#x27;1958-09-07T00:00:00.000000000&#x27;, ..., &#x27;2023-12-10T00:00:00.000000000&#x27;,\n",
       "       &#x27;2023-12-17T00:00:00.000000000&#x27;, &#x27;2023-12-24T00:00:00.000000000&#x27;],\n",
       "      dtype=&#x27;datetime64[ns]&#x27;)</pre></div></li><li class='xr-var-item'><div class='xr-var-name'><span>spatial_ref</span></div><div class='xr-var-dims'>()</div><div class='xr-var-dtype'>int64</div><div class='xr-var-preview xr-preview'>0</div><input id='attrs-5a9c2127-c06f-404a-8216-92332fc4a3d9' class='xr-var-attrs-in' type='checkbox' ><label for='attrs-5a9c2127-c06f-404a-8216-92332fc4a3d9' title='Show/Hide attributes'><svg class='icon xr-icon-file-text2'><use xlink:href='#icon-file-text2'></use></svg></label><input id='data-8091f3a1-cc55-4357-bf28-1623e15834df' class='xr-var-data-in' type='checkbox'><label for='data-8091f3a1-cc55-4357-bf28-1623e15834df' title='Show/Hide data repr'><svg class='icon xr-icon-database'><use xlink:href='#icon-database'></use></svg></label><div class='xr-var-attrs'><dl class='xr-attrs'><dt><span>crs_wkt :</span></dt><dd>GEOGCS[&quot;WGS 84&quot;,DATUM[&quot;WGS_1984&quot;,SPHEROID[&quot;WGS 84&quot;,6378137,298.257223563,AUTHORITY[&quot;EPSG&quot;,&quot;7030&quot;]],AUTHORITY[&quot;EPSG&quot;,&quot;6326&quot;]],PRIMEM[&quot;Greenwich&quot;,0,AUTHORITY[&quot;EPSG&quot;,&quot;8901&quot;]],UNIT[&quot;degree&quot;,0.0174532925199433,AUTHORITY[&quot;EPSG&quot;,&quot;9122&quot;]],AXIS[&quot;Latitude&quot;,NORTH],AXIS[&quot;Longitude&quot;,EAST],AUTHORITY[&quot;EPSG&quot;,&quot;4326&quot;]]</dd><dt><span>semi_major_axis :</span></dt><dd>6378137.0</dd><dt><span>semi_minor_axis :</span></dt><dd>6356752.314245179</dd><dt><span>inverse_flattening :</span></dt><dd>298.257223563</dd><dt><span>reference_ellipsoid_name :</span></dt><dd>WGS 84</dd><dt><span>longitude_of_prime_meridian :</span></dt><dd>0.0</dd><dt><span>prime_meridian_name :</span></dt><dd>Greenwich</dd><dt><span>geographic_crs_name :</span></dt><dd>WGS 84</dd><dt><span>horizontal_datum_name :</span></dt><dd>World Geodetic System 1984</dd><dt><span>grid_mapping_name :</span></dt><dd>latitude_longitude</dd><dt><span>spatial_ref :</span></dt><dd>GEOGCS[&quot;WGS 84&quot;,DATUM[&quot;WGS_1984&quot;,SPHEROID[&quot;WGS 84&quot;,6378137,298.257223563,AUTHORITY[&quot;EPSG&quot;,&quot;7030&quot;]],AUTHORITY[&quot;EPSG&quot;,&quot;6326&quot;]],PRIMEM[&quot;Greenwich&quot;,0,AUTHORITY[&quot;EPSG&quot;,&quot;8901&quot;]],UNIT[&quot;degree&quot;,0.0174532925199433,AUTHORITY[&quot;EPSG&quot;,&quot;9122&quot;]],AXIS[&quot;Latitude&quot;,NORTH],AXIS[&quot;Longitude&quot;,EAST],AUTHORITY[&quot;EPSG&quot;,&quot;4326&quot;]]</dd></dl></div><div class='xr-var-data'><pre>array(0)</pre></div></li></ul></div></li><li class='xr-section-item'><input id='section-117f7e9a-056f-4d54-b414-9d114dcb5958' class='xr-section-summary-in' type='checkbox'  checked><label for='section-117f7e9a-056f-4d54-b414-9d114dcb5958' class='xr-section-summary' >Data variables: <span>(4)</span></label><div class='xr-section-inline-details'></div><div class='xr-section-details'><ul class='xr-var-list'><li class='xr-var-item'><div class='xr-var-name'><span>prec</span></div><div class='xr-var-dims'>(time, lat, lon)</div><div class='xr-var-dtype'>float32</div><div class='xr-var-preview xr-preview'>-0.6083 -0.6096 ... -0.6606 -0.6293</div><input id='attrs-6409a7f0-dc97-4ed0-9914-84ac4313019c' class='xr-var-attrs-in' type='checkbox' disabled><label for='attrs-6409a7f0-dc97-4ed0-9914-84ac4313019c' title='Show/Hide attributes'><svg class='icon xr-icon-file-text2'><use xlink:href='#icon-file-text2'></use></svg></label><input id='data-b566fb7e-4c3d-4b11-b907-15ddac1027e2' class='xr-var-data-in' type='checkbox'><label for='data-b566fb7e-4c3d-4b11-b907-15ddac1027e2' title='Show/Hide data repr'><svg class='icon xr-icon-database'><use xlink:href='#icon-database'></use></svg></label><div class='xr-var-attrs'><dl class='xr-attrs'></dl></div><div class='xr-var-data'><pre>array([[[-0.60834336, -0.6096486 , -0.62034535, ..., -0.67669445,\n",
       "         -0.6785091 , -0.6785091 ],\n",
       "        [-0.64641875, -0.65294504, -0.6623366 , ..., -0.672524  ,\n",
       "         -0.67564386, -0.6785091 ],\n",
       "        [-0.6644377 , -0.6717281 , -0.6785091 , ..., -0.6714734 ,\n",
       "         -0.672524  , -0.67720383],\n",
       "        ...,\n",
       "        [-0.6623366 , -0.6678123 , -0.67277867, ..., -0.6785091 ,\n",
       "         -0.6785091 , -0.67720383],\n",
       "        [-0.661286  , -0.66676176, -0.67198277, ..., -0.6785091 ,\n",
       "         -0.6785091 , -0.67799973],\n",
       "        [-0.6592167 , -0.6641512 , -0.66937226, ..., -0.6785091 ,\n",
       "         -0.6782544 , -0.67669445]],\n",
       "\n",
       "       [[ 0.18039715,  0.17791627,  0.21900241, ..., -0.2593235 ,\n",
       "         -0.4037004 , -0.4250792 ],\n",
       "        [ 0.27956858,  0.2996569 ,  0.37992474, ..., -0.10125276,\n",
       "         -0.32365653, -0.42329526],\n",
       "        [ 0.39261582,  0.44579154,  0.56292766, ...,  0.07043343,\n",
       "         -0.19260624, -0.32826814],\n",
       "...\n",
       "        [-0.6603281 , -0.66651666, -0.6751919 , ..., -0.6758656 ,\n",
       "         -0.6770219 , -0.67753696],\n",
       "        [-0.6604373 , -0.6674428 , -0.6761254 , ..., -0.67679226,\n",
       "         -0.67735505, -0.67757446],\n",
       "        [-0.6592832 , -0.6631967 , -0.67101973, ..., -0.67727655,\n",
       "         -0.67742777, -0.6779145 ]],\n",
       "\n",
       "       [[-0.44594234, -0.4685428 , -0.52412844, ..., -0.65633273,\n",
       "         -0.6394786 , -0.56967384],\n",
       "        [-0.50579566, -0.48148286, -0.52848077, ..., -0.65582454,\n",
       "         -0.6611854 , -0.6082285 ],\n",
       "        [-0.5727664 , -0.52635294, -0.57525927, ..., -0.6668368 ,\n",
       "         -0.6633331 , -0.64345974],\n",
       "        ...,\n",
       "        [-0.46414325, -0.5354732 , -0.6177337 , ..., -0.6484864 ,\n",
       "         -0.66176754, -0.6667276 ],\n",
       "        [-0.4688373 , -0.55305564, -0.6159685 , ..., -0.65567786,\n",
       "         -0.66512674, -0.6745865 ],\n",
       "        [-0.45181715, -0.49766445, -0.56069446, ..., -0.67709696,\n",
       "         -0.6605788 , -0.62930256]]], dtype=float32)</pre></div></li><li class='xr-var-item'><div class='xr-var-name'><span>tmax</span></div><div class='xr-var-dims'>(time, lat, lon)</div><div class='xr-var-dtype'>float32</div><div class='xr-var-preview xr-preview'>0.8723 0.9537 ... -0.1744 0.01484</div><input id='attrs-a525df72-5307-4543-a140-77b81203e819' class='xr-var-attrs-in' type='checkbox' disabled><label for='attrs-a525df72-5307-4543-a140-77b81203e819' title='Show/Hide attributes'><svg class='icon xr-icon-file-text2'><use xlink:href='#icon-file-text2'></use></svg></label><input id='data-43cf453e-a12a-4779-ad59-c1b657e7aa30' class='xr-var-data-in' type='checkbox'><label for='data-43cf453e-a12a-4779-ad59-c1b657e7aa30' title='Show/Hide data repr'><svg class='icon xr-icon-database'><use xlink:href='#icon-database'></use></svg></label><div class='xr-var-attrs'><dl class='xr-attrs'></dl></div><div class='xr-var-data'><pre>array([[[ 0.87230486,  0.95366913,  0.8151461 , ...,  2.298876  ,\n",
       "          2.393841  ,  2.4477644 ],\n",
       "        [ 1.3043505 ,  1.2157964 ,  1.3846363 , ...,  2.4087    ,\n",
       "          2.1480706 ,  2.5241556 ],\n",
       "        [ 1.6791176 ,  2.1296766 ,  1.9523889 , ...,  2.1345897 ,\n",
       "          2.3985145 ,  2.5419505 ],\n",
       "        ...,\n",
       "        [ 1.1578587 ,  1.6052426 ,  1.3553978 , ...,  2.3406367 ,\n",
       "          2.3010929 ,  2.2652638 ],\n",
       "        [ 0.4842966 ,  0.43672425,  1.8160229 , ...,  2.2698174 ,\n",
       "          2.4989316 ,  2.2127786 ],\n",
       "        [ 1.1291596 ,  0.5928023 ,  0.49705845, ...,  1.4296323 ,\n",
       "          1.9998413 ,  2.163948  ]],\n",
       "\n",
       "       [[ 0.33962798,  0.36015314,  0.280689  , ...,  1.9196326 ,\n",
       "          1.9747459 ,  2.0133562 ],\n",
       "        [ 0.5648221 ,  0.481977  ,  0.55946404, ...,  2.0129368 ,\n",
       "          1.7342904 ,  2.0855367 ],\n",
       "        [ 0.79147124,  1.1864723 ,  0.9432269 , ...,  1.6833801 ,\n",
       "          1.9635587 ,  2.0913312 ],\n",
       "...\n",
       "        [-0.43481785, -0.13917254,  0.00296251, ...,  0.8856102 ,\n",
       "          0.9559501 ,  0.93551916],\n",
       "        [-0.61452794, -0.5522594 ,  0.15767106, ...,  0.89153314,\n",
       "          1.054202  ,  0.8252931 ],\n",
       "        [-0.3326802 , -0.45887792, -0.39559934, ...,  0.19605082,\n",
       "          0.822674  ,  0.7449046 ]],\n",
       "\n",
       "       [[-0.68213326, -0.6478963 , -0.6805584 , ...,  0.16792083,\n",
       "          0.12951544,  0.07037953],\n",
       "        [-0.3627617 , -0.40556654, -0.28806508, ...,  0.2011478 ,\n",
       "         -0.03872532,  0.13673937],\n",
       "        [-0.20469792, -0.16743091, -0.22282642, ..., -0.01229435,\n",
       "          0.12049393,  0.16526736],\n",
       "        ...,\n",
       "        [-0.5272022 , -0.22042128, -0.18654373, ...,  0.13814317,\n",
       "          0.04381153, -0.03721037],\n",
       "        [-0.8043338 , -0.7550496 ,  0.00461016, ...,  0.20090812,\n",
       "          0.35531712,  0.02993704],\n",
       "        [-0.45429444, -0.6883302 , -0.6652544 , ..., -0.2706898 ,\n",
       "         -0.17438957,  0.01483851]]], dtype=float32)</pre></div></li><li class='xr-var-item'><div class='xr-var-name'><span>tmin</span></div><div class='xr-var-dims'>(time, lat, lon)</div><div class='xr-var-dtype'>float32</div><div class='xr-var-preview xr-preview'>0.1323 0.1569 ... -0.7279 -0.665</div><input id='attrs-39d96385-1963-4c42-b57f-86a4138a4d65' class='xr-var-attrs-in' type='checkbox' disabled><label for='attrs-39d96385-1963-4c42-b57f-86a4138a4d65' title='Show/Hide attributes'><svg class='icon xr-icon-file-text2'><use xlink:href='#icon-file-text2'></use></svg></label><input id='data-c29f6a9d-0f94-4bf5-a217-f837eeb4bb93' class='xr-var-data-in' type='checkbox'><label for='data-c29f6a9d-0f94-4bf5-a217-f837eeb4bb93' title='Show/Hide data repr'><svg class='icon xr-icon-database'><use xlink:href='#icon-database'></use></svg></label><div class='xr-var-attrs'><dl class='xr-attrs'></dl></div><div class='xr-var-data'><pre>array([[[ 0.13229714,  0.15692213,  0.11276492, ...,  1.4328676 ,\n",
       "          1.4195666 ,  1.3717546 ],\n",
       "        [ 0.15830016,  0.15782085,  0.15021166, ...,  1.4773843 ,\n",
       "          1.1221496 ,  1.3636062 ],\n",
       "        [ 0.1446995 ,  0.15818034,  0.08849943, ...,  1.0214328 ,\n",
       "          1.2611519 ,  1.2893717 ],\n",
       "        ...,\n",
       "        [ 0.2122834 ,  0.23648898,  0.21414076, ...,  1.1817647 ,\n",
       "          0.9658318 ,  0.86505514],\n",
       "        [ 0.02786565, -0.0014926 ,  0.3024552 , ...,  1.094409  ,\n",
       "          1.2706184 ,  0.83995086],\n",
       "        [ 0.3041927 ,  0.10186043,  0.04098699, ...,  0.47794563,\n",
       "          0.69711393,  0.85462993]],\n",
       "\n",
       "       [[-0.05277534, -0.06626483, -0.11518093, ...,  0.8257125 ,\n",
       "          0.79137284,  0.76257944],\n",
       "        [-0.02486371, -0.05964846, -0.08855308, ...,  0.8844804 ,\n",
       "          0.5819962 ,  0.7982458 ],\n",
       "        [-0.00872942,  0.04621245, -0.0624902 , ...,  0.5724783 ,\n",
       "          0.7261084 ,  0.7708048 ],\n",
       "...\n",
       "        [-0.7245444 , -0.534623  , -0.6841789 , ..., -0.3570527 ,\n",
       "         -0.03999219,  0.09857365],\n",
       "        [-0.8747166 , -0.9569967 , -0.6058874 , ..., -0.64302605,\n",
       "         -0.46424884, -0.34205687],\n",
       "        [-0.6208661 , -0.80177456, -0.80316114, ..., -0.2294941 ,\n",
       "          0.01065302, -0.5314904 ]],\n",
       "\n",
       "       [[-1.0460578 , -1.0489851 , -1.131368  , ..., -0.80855566,\n",
       "         -0.6684577 , -0.53896475],\n",
       "        [-0.8990013 , -1.0192589 , -0.9285907 , ..., -0.700846  ,\n",
       "         -0.6661382 , -0.611941  ],\n",
       "        [-0.889997  , -1.1456449 , -0.99311894, ..., -0.5702317 ,\n",
       "         -0.54559815, -0.5883602 ],\n",
       "        ...,\n",
       "        [-0.86381423, -0.71602154, -0.9011326 , ..., -0.74126273,\n",
       "         -0.55533004, -0.43913808],\n",
       "        [-1.1045005 , -1.1570799 , -0.86413944, ..., -0.9713869 ,\n",
       "         -0.6755961 , -0.6212534 ],\n",
       "        [-0.80865836, -1.0391506 , -1.057767  , ..., -0.64808667,\n",
       "         -0.727936  , -0.66496557]]], dtype=float32)</pre></div></li><li class='xr-var-item'><div class='xr-var-name'><span>tmean</span></div><div class='xr-var-dims'>(time, lat, lon)</div><div class='xr-var-dtype'>float32</div><div class='xr-var-preview xr-preview'>0.5023 0.5553 ... -0.4512 -0.3251</div><input id='attrs-e4bd0ec6-8920-44af-a688-cd3bae6a3490' class='xr-var-attrs-in' type='checkbox' disabled><label for='attrs-e4bd0ec6-8920-44af-a688-cd3bae6a3490' title='Show/Hide attributes'><svg class='icon xr-icon-file-text2'><use xlink:href='#icon-file-text2'></use></svg></label><input id='data-5ae33c31-23cc-4664-a9fa-8dbd08ec3247' class='xr-var-data-in' type='checkbox'><label for='data-5ae33c31-23cc-4664-a9fa-8dbd08ec3247' title='Show/Hide data repr'><svg class='icon xr-icon-database'><use xlink:href='#icon-database'></use></svg></label><div class='xr-var-attrs'><dl class='xr-attrs'></dl></div><div class='xr-var-data'><pre>array([[[ 5.0230098e-01,  5.5529565e-01,  4.6395552e-01, ...,\n",
       "          1.8658719e+00,  1.9067038e+00,  1.9097595e+00],\n",
       "        [ 7.3132533e-01,  6.8680859e-01,  7.6742399e-01, ...,\n",
       "          1.9430422e+00,  1.6351101e+00,  1.9438810e+00],\n",
       "        [ 9.1190851e-01,  1.1439285e+00,  1.0204442e+00, ...,\n",
       "          1.5780113e+00,  1.8298331e+00,  1.9156611e+00],\n",
       "        ...,\n",
       "        [ 6.8507111e-01,  9.2086577e-01,  7.8476930e-01, ...,\n",
       "          1.7612008e+00,  1.6334624e+00,  1.5651596e+00],\n",
       "        [ 2.5608110e-01,  2.1761581e-01,  1.0592390e+00, ...,\n",
       "          1.6821133e+00,  1.8847750e+00,  1.5263647e+00],\n",
       "        [ 7.1667612e-01,  3.4733135e-01,  2.6902270e-01, ...,\n",
       "          9.5378894e-01,  1.3484777e+00,  1.5092890e+00]],\n",
       "\n",
       "       [[ 1.4342631e-01,  1.4694421e-01,  8.2754038e-02, ...,\n",
       "          1.3726726e+00,  1.3830593e+00,  1.3879678e+00],\n",
       "        [ 2.6997924e-01,  2.1116433e-01,  2.3545545e-01, ...,\n",
       "          1.4487089e+00,  1.1581434e+00,  1.4418912e+00],\n",
       "        [ 3.9137083e-01,  6.1634237e-01,  4.4036838e-01, ...,\n",
       "          1.1279292e+00,  1.3448336e+00,  1.4310682e+00],\n",
       "...\n",
       "        [-5.7968110e-01, -3.3689782e-01, -3.4060821e-01, ...,\n",
       "          2.6427880e-01,  4.5797902e-01,  5.1704645e-01],\n",
       "        [-7.4462229e-01, -7.5462806e-01, -2.2410820e-01, ...,\n",
       "          1.2425358e-01,  2.9497647e-01,  2.4161813e-01],\n",
       "        [-4.7677317e-01, -6.3032627e-01, -5.9938025e-01, ...,\n",
       "         -1.6721612e-02,  4.1666344e-01,  1.0670709e-01]],\n",
       "\n",
       "       [[-8.6409557e-01, -8.4844071e-01, -9.0596318e-01, ...,\n",
       "         -3.2031745e-01, -2.6947120e-01, -2.3429261e-01],\n",
       "        [-6.3088155e-01, -7.1241271e-01, -6.0832787e-01, ...,\n",
       "         -2.4984910e-01, -3.5243177e-01, -2.3760080e-01],\n",
       "        [-5.4734743e-01, -6.5653789e-01, -6.0797268e-01, ...,\n",
       "         -2.9126304e-01, -2.1255215e-01, -2.1154641e-01],\n",
       "        ...,\n",
       "        [-6.9550818e-01, -4.6822140e-01, -5.4383814e-01, ...,\n",
       "         -3.0155984e-01, -2.5575924e-01, -2.3817426e-01],\n",
       "        [-9.5441717e-01, -9.5606482e-01, -4.2976463e-01, ...,\n",
       "         -3.8523939e-01, -1.6013950e-01, -2.9565823e-01],\n",
       "        [-6.3147634e-01, -8.6374038e-01, -8.6151069e-01, ...,\n",
       "         -4.5938823e-01, -4.5116282e-01, -3.2506353e-01]]], dtype=float32)</pre></div></li></ul></div></li><li class='xr-section-item'><input id='section-eac4cf32-d10e-45e9-8dce-fb715d992ee1' class='xr-section-summary-in' type='checkbox'  ><label for='section-eac4cf32-d10e-45e9-8dce-fb715d992ee1' class='xr-section-summary' >Indexes: <span>(3)</span></label><div class='xr-section-inline-details'></div><div class='xr-section-details'><ul class='xr-var-list'><li class='xr-var-item'><div class='xr-index-name'><div>lon</div></div><div class='xr-index-preview'>PandasIndex</div><div></div><input id='index-f1d14083-7f06-4e8e-8dde-aa26c33035f3' class='xr-index-data-in' type='checkbox'/><label for='index-f1d14083-7f06-4e8e-8dde-aa26c33035f3' title='Show/Hide index repr'><svg class='icon xr-icon-database'><use xlink:href='#icon-database'></use></svg></label><div class='xr-index-data'><pre>PandasIndex(Index([            6.688,             6.813,             6.938,\n",
       "                   7.063,             7.188,             7.313,\n",
       "                   7.438,             7.563,             7.688,\n",
       "                   7.813,             7.938, 8.062999999999999],\n",
       "      dtype=&#x27;float64&#x27;, name=&#x27;lon&#x27;))</pre></div></li><li class='xr-var-item'><div class='xr-index-name'><div>lat</div></div><div class='xr-index-preview'>PandasIndex</div><div></div><input id='index-97a8327d-ed19-406f-8c0d-200d63fe9aa3' class='xr-index-data-in' type='checkbox'/><label for='index-97a8327d-ed19-406f-8c0d-200d63fe9aa3' title='Show/Hide index repr'><svg class='icon xr-icon-database'><use xlink:href='#icon-database'></use></svg></label><div class='xr-index-data'><pre>PandasIndex(Index([45.313, 45.188, 45.063, 44.938, 44.813, 44.688, 44.563, 44.438, 44.313], dtype=&#x27;float64&#x27;, name=&#x27;lat&#x27;))</pre></div></li><li class='xr-var-item'><div class='xr-index-name'><div>time</div></div><div class='xr-index-preview'>PandasIndex</div><div></div><input id='index-77778957-d339-4828-9742-6dd7ea24ac0f' class='xr-index-data-in' type='checkbox'/><label for='index-77778957-d339-4828-9742-6dd7ea24ac0f' title='Show/Hide index repr'><svg class='icon xr-icon-database'><use xlink:href='#icon-database'></use></svg></label><div class='xr-index-data'><pre>PandasIndex(DatetimeIndex([&#x27;1958-08-24&#x27;, &#x27;1958-08-31&#x27;, &#x27;1958-09-07&#x27;, &#x27;1958-09-14&#x27;,\n",
       "               &#x27;1958-09-21&#x27;, &#x27;1958-09-28&#x27;, &#x27;1958-10-05&#x27;, &#x27;1958-10-12&#x27;,\n",
       "               &#x27;1958-10-19&#x27;, &#x27;1958-10-26&#x27;,\n",
       "               ...\n",
       "               &#x27;2023-10-22&#x27;, &#x27;2023-10-29&#x27;, &#x27;2023-11-05&#x27;, &#x27;2023-11-12&#x27;,\n",
       "               &#x27;2023-11-19&#x27;, &#x27;2023-11-26&#x27;, &#x27;2023-12-03&#x27;, &#x27;2023-12-10&#x27;,\n",
       "               &#x27;2023-12-17&#x27;, &#x27;2023-12-24&#x27;],\n",
       "              dtype=&#x27;datetime64[ns]&#x27;, name=&#x27;time&#x27;, length=3410, freq=&#x27;W-SUN&#x27;))</pre></div></li></ul></div></li><li class='xr-section-item'><input id='section-2b5e5719-ff80-4c7e-80fd-cebd27d62459' class='xr-section-summary-in' type='checkbox'  checked><label for='section-2b5e5719-ff80-4c7e-80fd-cebd27d62459' class='xr-section-summary' >Attributes: <span>(4)</span></label><div class='xr-section-inline-details'></div><div class='xr-section-details'><dl class='xr-attrs'><dt><span>CDI :</span></dt><dd>Climate Data Interface version 2.1.1 (https://mpimet.mpg.de/cdi)</dd><dt><span>Conventions :</span></dt><dd>CF-1.6</dd><dt><span>history :</span></dt><dd>Tue May 14 07:41:14 2024: cdo -r settaxis,1957-12-01,12:00,1d NWIOItDAYprec.nc tmp.nc\n",
       "Tue May 14 07:41:09 2024: cdo -r splitvar NWIOItDAY.nc NWIOItDAY\n",
       "Tue May 14 07:41:06 2024: cdo chname,var61,prec tmp2.nc NWIOItDAY.nc\n",
       "Tue May 14 07:41:03 2024: cdo chname,var16,tmin tmp.nc tmp2.nc\n",
       "Tue May 14 07:41:01 2024: cdo chname,var15,tmax NWIOItDAY.nc tmp.nc\n",
       "Tue May 14 07:40:59 2024: cdo -r -f nc copy NWIOItempDAY.grb NWIOItDAY.nc</dd><dt><span>CDO :</span></dt><dd>Climate Data Operators version 2.1.1 (https://mpimet.mpg.de/cdo)</dd></dl></div></li></ul></div></div>"
      ],
      "text/plain": [
       "<xarray.Dataset> Size: 6MB\n",
       "Dimensions:      (time: 3410, lat: 9, lon: 12)\n",
       "Coordinates:\n",
       "  * lon          (lon) float64 96B 6.688 6.813 6.938 7.063 ... 7.813 7.938 8.063\n",
       "  * lat          (lat) float64 72B 45.31 45.19 45.06 44.94 ... 44.56 44.44 44.31\n",
       "  * time         (time) datetime64[ns] 27kB 1958-08-24 1958-08-31 ... 2023-12-24\n",
       "    spatial_ref  int64 8B 0\n",
       "Data variables:\n",
       "    prec         (time, lat, lon) float32 1MB -0.6083 -0.6096 ... -0.6293\n",
       "    tmax         (time, lat, lon) float32 1MB 0.8723 0.9537 ... -0.1744 0.01484\n",
       "    tmin         (time, lat, lon) float32 1MB 0.1323 0.1569 ... -0.7279 -0.665\n",
       "    tmean        (time, lat, lon) float32 1MB 0.5023 0.5553 ... -0.4512 -0.3251\n",
       "Attributes:\n",
       "    CDI:          Climate Data Interface version 2.1.1 (https://mpimet.mpg.de...\n",
       "    Conventions:  CF-1.6\n",
       "    history:      Tue May 14 07:41:14 2024: cdo -r settaxis,1957-12-01,12:00,...\n",
       "    CDO:          Climate Data Operators version 2.1.1 (https://mpimet.mpg.de..."
      ]
     },
     "execution_count": 8,
     "metadata": {},
     "output_type": "execute_result"
    }
   ],
   "source": [
    "ds.weather_xr"
   ]
  },
  {
   "cell_type": "code",
   "execution_count": 9,
   "metadata": {},
   "outputs": [
    {
     "data": {
      "text/plain": [
       "(tensor([[ 0.0537, -0.1541, -0.8669,  0.0000],\n",
       "         [ 0.2027,  0.0941, -0.9513,  0.0000],\n",
       "         [ 0.4464,  0.5184, -1.0212,  0.0000],\n",
       "         [ 0.1498,  0.8083, -1.0188,  0.0000],\n",
       "         [ 0.2337,  0.7227, -1.0282,  0.0000],\n",
       "         [-0.0779,  0.0140, -0.9516,  0.0000],\n",
       "         [ 0.8719,  0.4627, -0.9582,  0.0000],\n",
       "         [ 0.4663,  0.6909, -1.0349,  0.0000],\n",
       "         [ 0.6315,  0.3695, -0.9801,  0.0000],\n",
       "         [ 0.3499,  1.0955, -1.0181,  0.0000],\n",
       "         [ 0.2384,  0.2776, -0.9950,  0.0000],\n",
       "         [ 0.7390,  0.6502, -1.0053,  0.0000],\n",
       "         [ 0.8231,  0.7965, -1.0433,  0.0000],\n",
       "         [ 0.1747,  0.4401, -1.0114,  0.0000],\n",
       "         [-0.2520, -0.0823, -0.9128,  0.0000],\n",
       "         [-0.3832,  1.0909, -0.9726,  0.0000],\n",
       "         [-0.9421,  0.2661, -0.7349,  0.0000],\n",
       "         [-0.0789,  0.8346, -0.9981,  0.0000],\n",
       "         [-0.3521,  0.6148, -0.9658, -0.2045],\n",
       "         [-1.2204,  0.3759, -0.7029,  2.4366],\n",
       "         [-0.7581,  0.8144, -0.8862,  0.7229],\n",
       "         [-1.0022,  0.6365, -0.8246,  0.0000],\n",
       "         [-0.1417,  0.3575, -1.0036,  0.0000],\n",
       "         [-0.1235,  0.7252, -0.9973,  0.0000],\n",
       "         [-0.5160,  0.6429, -0.9299,  0.0000],\n",
       "         [-0.3809,  0.4466, -0.9620,  0.0000],\n",
       "         [-0.9119,  0.3645, -0.7772,  0.0000],\n",
       "         [-0.7510,  0.4636, -0.8527,  0.0000]]),\n",
       " tensor([False, False, False, False, False, False, False, False, False, False,\n",
       "         False, False, False, False, False, False, False, False,  True,  True,\n",
       "          True, False, False, False, False, False, False, False]))"
      ]
     },
     "execution_count": 9,
     "metadata": {},
     "output_type": "execute_result"
    }
   ],
   "source": [
    "sample_date = np.datetime64(\"2000-12-31\")\n",
    "ds.get_target_data(sample_date, sample_date)"
   ]
  },
  {
   "cell_type": "code",
   "execution_count": 10,
   "metadata": {},
   "outputs": [
    {
     "name": "stdout",
     "output_type": "stream",
     "text": [
      "tensor([348.2072,   0.0000,   0.0000, 232.4600, 223.8954,   0.0000,   0.0000,\n",
      "        218.8350,   0.0000,   0.0000, 256.5935, 227.6160,   0.0000,   0.0000,\n",
      "        321.7438, 274.8842, 436.0776,   0.0000, 282.6330, 476.7404, 351.5629,\n",
      "          0.0000, 249.2226, 252.4715, 313.1540,   0.0000, 428.7019, 381.0108])\n",
      "\n",
      "tensor([348.2072,   0.0000,   0.0000, 232.4600, 223.8954,   0.0000,   0.0000,\n",
      "        218.8350,   0.0000,   0.0000, 256.5935, 227.6160,   0.0000,   0.0000,\n",
      "        321.7438, 274.8842, 436.0776,   0.0000, 282.6330, 476.7404, 351.5629,\n",
      "          0.0000, 249.2226, 252.4715, 313.1540,   0.0000, 428.7019, 381.0108])\n"
     ]
    }
   ],
   "source": [
    "timestep = 24\n",
    "print(ds[100][0][timestep+1,:,-1], end = \"\\n\\n\")\n",
    "print(ds[100][3][timestep,:])"
   ]
  },
  {
   "cell_type": "code",
   "execution_count": 10,
   "metadata": {},
   "outputs": [
    {
     "data": {
      "text/plain": [
       "<Axes: xlabel='wtd', ylabel='Count'>"
      ]
     },
     "execution_count": 10,
     "metadata": {},
     "output_type": "execute_result"
    },
    {
     "data": {
      "image/png": "[encoded data removed]",
      "text/plain": [
       "<Figure size 640x480 with 1 Axes>"
      ]
     },
     "metadata": {},
     "output_type": "display_data"
    }
   ],
   "source": [
    "sns.histplot(ds.wtd_df[\"wtd\"], kde=True)"
   ]
  },
  {
   "cell_type": "code",
   "execution_count": 11,
   "metadata": {},
   "outputs": [
    {
     "data": {
      "text/plain": [
       "<Axes: xlabel='h', ylabel='Count'>"
      ]
     },
     "execution_count": 11,
     "metadata": {},
     "output_type": "execute_result"
    },
    {
     "data": {
      "image/png": "[encoded data removed]",
      "text/plain": [
       "<Figure size 640x480 with 1 Axes>"
      ]
     },
     "metadata": {},
     "output_type": "display_data"
    }
   ],
   "source": [
    "sns.histplot(ds.wtd_df[\"h\"], kde=True)"
   ]
  },
  {
   "cell_type": "code",
   "execution_count": 12,
   "metadata": {},
   "outputs": [
    {
     "data": {
      "image/png": "[encoded data removed]",
      "text/plain": [
       "<Figure size 640x480 with 2 Axes>"
      ]
     },
     "metadata": {},
     "output_type": "display_data"
    }
   ],
   "source": [
    "plt.imshow(ds[0][2][0][2,13,:,:])\n",
    "plt.colorbar()\n",
    "plt.show()"
   ]
  },
  {
   "cell_type": "code",
   "execution_count": 13,
   "metadata": {},
   "outputs": [
    {
     "data": {
      "text/plain": [
       "<matplotlib.collections.QuadMesh at 0x7ef8d1255d50>"
      ]
     },
     "execution_count": 13,
     "metadata": {},
     "output_type": "execute_result"
    },
    {
     "data": {
      "image/png": "[encoded data removed]",
      "text/plain": [
       "<Figure size 640x480 with 2 Axes>"
      ]
     },
     "metadata": {},
     "output_type": "display_data"
    }
   ],
   "source": [
    "ds.weather_dtm.plot()"
   ]
  },
  {
   "cell_type": "code",
   "execution_count": 15,
   "metadata": {},
   "outputs": [
    {
     "data": {
      "text/plain": [
       "<module 'utils.plot' from '/leonardo_scratch/fast/IscrC_DL4EO/github/water-pinns/src/utils/plot.py'>"
      ]
     },
     "execution_count": 15,
     "metadata": {},
     "output_type": "execute_result"
    }
   ],
   "source": [
    "from utils import plot\n",
    "importlib.reload(plot)"
   ]
  },
  {
   "cell_type": "code",
   "execution_count": 19,
   "metadata": {},
   "outputs": [],
   "source": [
    "import geopy.distance"
   ]
  },
  {
   "cell_type": "code",
   "execution_count": 20,
   "metadata": {},
   "outputs": [
    {
     "name": "stdout",
     "output_type": "stream",
     "text": [
      "Y - Resolution in km:  13.89086\n"
     ]
    }
   ],
   "source": [
    "spatial_resolution_meteo =  geopy.distance.geodesic((ds.weather_xr.lat.values[4],\n",
    "                               ds.weather_xr.lon.values[0]),\n",
    "                               (ds.weather_xr.lat.values[5],\n",
    "                                ds.weather_xr.lon.values[0])).km\n",
    "print(\"Y - Resolution in km: \", round(spatial_resolution_meteo, 5))"
   ]
  },
  {
   "cell_type": "code",
   "execution_count": 22,
   "metadata": {},
   "outputs": [
    {
     "name": "stdout",
     "output_type": "stream",
     "text": [
      "Y - Resolution in km:  0.09261\n"
     ]
    }
   ],
   "source": [
    "spatial_resolution_dtm =  geopy.distance.geodesic((ds.dtm_roi.y.values[4],\n",
    "                               ds.dtm_roi.x.values[0]),\n",
    "                               (ds.dtm_roi.y.values[5],\n",
    "                                ds.dtm_roi.x.values[0])).km\n",
    "print(\"Y - Resolution in km: \", round(spatial_resolution_dtm, 5))"
   ]
  },
  {
   "cell_type": "markdown",
   "metadata": {},
   "source": [
    "# Model "
   ]
  },
  {
   "cell_type": "code",
   "execution_count": 14,
   "metadata": {},
   "outputs": [
    {
     "data": {
      "text/plain": [
       "<module 'models.models_SparseData' from '/leonardo_scratch/fast/IscrC_DL4EO/github/water-pinns/src/models/models_SparseData.py'>"
      ]
     },
     "execution_count": 14,
     "metadata": {},
     "output_type": "execute_result"
    }
   ],
   "source": [
    "from models import models_SparseData\n",
    "importlib.reload(models_SparseData)"
   ]
  },
  {
   "cell_type": "code",
   "execution_count": 15,
   "metadata": {},
   "outputs": [
    {
     "data": {
      "text/plain": [
       "'cpu'"
      ]
     },
     "execution_count": 15,
     "metadata": {},
     "output_type": "execute_result"
    }
   ],
   "source": [
    "device = (\n",
    "    \"cuda\"\n",
    "    if torch.cuda.is_available()\n",
    "    else \"mps\"\n",
    "    if torch.backends.mps.is_available()\n",
    "    else \"cpu\"\n",
    ")\n",
    "device"
   ]
  },
  {
   "cell_type": "code",
   "execution_count": 16,
   "metadata": {},
   "outputs": [
    {
     "data": {
      "text/plain": [
       "<module 'models.load_model' from '/leonardo_scratch/fast/IscrC_DL4EO/github/water-pinns/src/models/load_model.py'>"
      ]
     },
     "execution_count": 16,
     "metadata": {},
     "output_type": "execute_result"
    }
   ],
   "source": [
    "from models import load_model\n",
    "importlib.reload(load_model)"
   ]
  },
  {
   "cell_type": "code",
   "execution_count": 31,
   "metadata": {},
   "outputs": [
    {
     "name": "stdout",
     "output_type": "stream",
     "text": [
      "Model: SparseData_Transformer\n"
     ]
    }
   ],
   "source": [
    "model, _ = load_model.load_model(dict_files)"
   ]
  },
  {
   "cell_type": "code",
   "execution_count": null,
   "metadata": {},
   "outputs": [],
   "source": [
    "def weight_init(m):\n",
    "    if isinstance(m, nn.Linear):\n",
    "        nn.init.kaiming_uniform_(m.weight)\n",
    "        if m.bias is not None:\n",
    "            nn.init.zeros_(m.bias)\n",
    "    \n",
    "model = model.apply(weight_init)"
   ]
  },
  {
   "cell_type": "code",
   "execution_count": 18,
   "metadata": {},
   "outputs": [
    {
     "name": "stdout",
     "output_type": "stream",
     "text": [
      "Total number of trainable parameters:  49474\n"
     ]
    }
   ],
   "source": [
    "print(\"Total number of trainable parameters: \" ,sum(p.numel() for p in model.parameters() if p.requires_grad))"
   ]
  },
  {
   "cell_type": "code",
   "execution_count": 69,
   "metadata": {},
   "outputs": [],
   "source": [
    "model.train()\n",
    "prova_out = model(ds[0][0].unsqueeze(0),\n",
    "                       ds[0][1].unsqueeze(0),\n",
    "                       [ds[0][2][0].unsqueeze(0),\n",
    "                        ds[0][2][1].unsqueeze(0)],\n",
    "                       ds[0][-2].unsqueeze(0),\n",
    "                       teacher_forcing = True)"
   ]
  },
  {
   "cell_type": "code",
   "execution_count": 20,
   "metadata": {},
   "outputs": [
    {
     "data": {
      "text/plain": [
       "torch.Size([26, 28])"
      ]
     },
     "execution_count": 20,
     "metadata": {},
     "output_type": "execute_result"
    }
   ],
   "source": [
    "prova_out.shape"
   ]
  },
  {
   "cell_type": "code",
   "execution_count": 37,
   "metadata": {},
   "outputs": [
    {
     "data": {
      "text/plain": [
       "[<matplotlib.lines.Line2D at 0x7ef8d078fd10>]"
      ]
     },
     "execution_count": 37,
     "metadata": {},
     "output_type": "execute_result"
    },
    {
     "data": {
      "image/png": "[encoded data removed]",
      "text/plain": [
       "<Figure size 640x480 with 1 Axes>"
      ]
     },
     "metadata": {},
     "output_type": "display_data"
    }
   ],
   "source": [
    "sensor = 5\n",
    "plt.plot(prova_out[:,sensor].detach().cpu(), marker = \"o\")"
   ]
  },
  {
   "cell_type": "code",
   "execution_count": 38,
   "metadata": {},
   "outputs": [
    {
     "name": "stderr",
     "output_type": "stream",
     "text": [
      "100%|██████████| 26/26 [00:02<00:00,  9.59it/s]\n"
     ]
    }
   ],
   "source": [
    "prova_out_eval = model(ds[0][0][0,:,:].unsqueeze(0),\n",
    "                       ds[0][1].unsqueeze(0),\n",
    "                       [ds[0][2][0].unsqueeze(0),\n",
    "                        ds[0][2][1].unsqueeze(0)],\n",
    "                       ds[0][-2][0,:].unsqueeze(0),\n",
    "                       teacher_forcing = False)"
   ]
  },
  {
   "cell_type": "code",
   "execution_count": 39,
   "metadata": {},
   "outputs": [
    {
     "data": {
      "text/plain": [
       "torch.Size([26, 28])"
      ]
     },
     "execution_count": 39,
     "metadata": {},
     "output_type": "execute_result"
    }
   ],
   "source": [
    "prova_out_eval.shape"
   ]
  },
  {
   "cell_type": "code",
   "execution_count": 40,
   "metadata": {},
   "outputs": [
    {
     "data": {
      "text/plain": [
       "[<matplotlib.lines.Line2D at 0x7ef8d02c0590>]"
      ]
     },
     "execution_count": 40,
     "metadata": {},
     "output_type": "execute_result"
    },
    {
     "data": {
      "image/png": "[encoded data removed]",
      "text/plain": [
       "<Figure size 640x480 with 1 Axes>"
      ]
     },
     "metadata": {},
     "output_type": "display_data"
    }
   ],
   "source": [
    "sensor = 5\n",
    "plt.plot(prova_out_eval[:,sensor].detach().cpu(), marker = \"o\")"
   ]
  },
  {
   "cell_type": "code",
   "execution_count": 25,
   "metadata": {},
   "outputs": [
    {
     "data": {
      "text/plain": [
       "<module 'utils.plot' from '/leonardo_scratch/fast/IscrC_DL4EO/github/water-pinns/src/utils/plot.py'>"
      ]
     },
     "execution_count": 25,
     "metadata": {},
     "output_type": "execute_result"
    }
   ],
   "source": [
    "from utils import plot\n",
    "importlib.reload(plot)"
   ]
  },
  {
   "cell_type": "markdown",
   "metadata": {},
   "source": [
    "## Grid prediction"
   ]
  },
  {
   "cell_type": "code",
   "execution_count": 41,
   "metadata": {},
   "outputs": [
    {
     "name": "stdout",
     "output_type": "stream",
     "text": [
      "Computing Causal-Mask...\n"
     ]
    },
    {
     "name": "stderr",
     "output_type": "stream",
     "text": [
      "100%|██████████| 5/5 [00:02<00:00,  1.99it/s]\n"
     ]
    }
   ],
   "source": [
    "date = \"2020-01-05\"\n",
    "twindow = 5\n",
    "lat_points = 30\n",
    "lon_points = 45\n",
    "z_grid = plot.grid_generation(ds, lat_points,lon_points)\n",
    "Y_test, Y_hat_test = plot.compute_predictions(start_date = np.datetime64(date),\n",
    "                                        twindow = twindow,\n",
    "                                        model = model,\n",
    "                                        device = device,\n",
    "                                        dataset = ds,\n",
    "                                        Z_grid = z_grid,\n",
    "                                        eval = True)"
   ]
  },
  {
   "cell_type": "code",
   "execution_count": 42,
   "metadata": {},
   "outputs": [],
   "source": [
    "coords = z_grid.reshape(lat_points,lon_points,3)\n",
    "Y_hat_test_grid = Y_hat_test.reshape(twindow,lat_points,lon_points)"
   ]
  },
  {
   "cell_type": "code",
   "execution_count": 43,
   "metadata": {},
   "outputs": [
    {
     "data": {
      "text/plain": [
       "<matplotlib.colorbar.Colorbar at 0x7ef8d0bafb90>"
      ]
     },
     "execution_count": 43,
     "metadata": {},
     "output_type": "execute_result"
    },
    {
     "data": {
      "image/png": "[encoded data removed]",
      "text/plain": [
       "<Figure size 640x480 with 2 Axes>"
      ]
     },
     "metadata": {},
     "output_type": "display_data"
    }
   ],
   "source": [
    "plt.imshow(Y_hat_test_grid[2,:,:])\n",
    "plt.colorbar()"
   ]
  },
  {
   "cell_type": "code",
   "execution_count": 46,
   "metadata": {},
   "outputs": [],
   "source": [
    "Y_hat_test_grid = (Y_hat_test_grid * ds.norm_factors[\"target_stds\"]) + ds.norm_factors[\"target_means\"]"
   ]
  },
  {
   "cell_type": "code",
   "execution_count": 47,
   "metadata": {},
   "outputs": [
    {
     "data": {
      "text/plain": [
       "<matplotlib.colorbar.Colorbar at 0x7ef8d0918390>"
      ]
     },
     "execution_count": 47,
     "metadata": {},
     "output_type": "execute_result"
    },
    {
     "data": {
      "image/png": "[encoded data removed]",
      "text/plain": [
       "<Figure size 640x480 with 2 Axes>"
      ]
     },
     "metadata": {},
     "output_type": "display_data"
    }
   ],
   "source": [
    "plt.imshow(Y_hat_test_grid[2,:,:])\n",
    "plt.colorbar()"
   ]
  },
  {
   "cell_type": "code",
   "execution_count": 49,
   "metadata": {},
   "outputs": [],
   "source": [
    "Y_hat_xr = xarray.DataArray(data = Y_hat_test_grid,\n",
    "                                coords = dict(\n",
    "                                            lat=(\"lat\", ((coords[:,0,0] * ds.norm_factors[\"lat_std\"]) + ds.norm_factors[\"lat_mean\"])),\n",
    "                                            lon=(\"lon\", ((coords[0,:,1] * ds.norm_factors[\"lon_std\"]) + ds.norm_factors[\"lon_mean\"])),\n",
    "                                            time=pd.date_range(np.datetime64(date),\n",
    "                                                            np.datetime64(date) + np.timedelta64(twindow-1, dict_files[\"frequency\"]),\n",
    "                                                            freq = dict_files[\"frequency\"])),\n",
    "                                dims = [\"time\",\"lat\", \"lon\"]\n",
    "                                )"
   ]
  },
  {
   "cell_type": "code",
   "execution_count": 52,
   "metadata": {},
   "outputs": [
    {
     "data": {
      "text/plain": [
       "<matplotlib.collections.QuadMesh at 0x7ef8d01eb690>"
      ]
     },
     "execution_count": 52,
     "metadata": {},
     "output_type": "execute_result"
    },
    {
     "data": {
      "image/png": "[encoded data removed]",
      "text/plain": [
       "<Figure size 640x480 with 2 Axes>"
      ]
     },
     "metadata": {},
     "output_type": "display_data"
    }
   ],
   "source": [
    "Y_hat_xr[2].plot()"
   ]
  },
  {
   "cell_type": "markdown",
   "metadata": {},
   "source": [
    "## Load trained model"
   ]
  },
  {
   "cell_type": "code",
   "execution_count": 59,
   "metadata": {},
   "outputs": [
    {
     "data": {
      "text/plain": [
       "SparseData_Transformer(\n",
       "  (activation_fn): LeakyReLU(negative_slope=0.01)\n",
       "  (SparseAutoreg_Module): Spatial_Attention_Block(\n",
       "    (activation): LeakyReLU(negative_slope=0.01)\n",
       "    (topo_embeddings): Sequential(\n",
       "      (0): Linear(in_features=3, out_features=32, bias=True)\n",
       "      (1): LeakyReLU(negative_slope=0.01)\n",
       "    )\n",
       "    (value_embeddings): Sequential(\n",
       "      (0): Linear(in_features=4, out_features=32, bias=True)\n",
       "      (1): LeakyReLU(negative_slope=0.01)\n",
       "    )\n",
       "    (cb_multihead_att_1): MultiheadAttention(\n",
       "      (out_proj): NonDynamicallyQuantizableLinear(in_features=32, out_features=32, bias=True)\n",
       "    )\n",
       "    (norm_linear): Sequential(\n",
       "      (0): Linear(in_features=64, out_features=32, bias=True)\n",
       "      (1): LeakyReLU(negative_slope=0.01)\n",
       "      (2): Linear(in_features=32, out_features=32, bias=True)\n",
       "      (3): LeakyReLU(negative_slope=0.01)\n",
       "    )\n",
       "  )\n",
       "  (ST_Conditioning_Module): ST_Conditioning_Block(\n",
       "    (activation): LeakyReLU(negative_slope=0.01)\n",
       "    (ST_layers): Sequential(\n",
       "      (0): Linear(in_features=5, out_features=32, bias=True)\n",
       "      (1): LeakyReLU(negative_slope=0.01)\n",
       "      (2): Linear(in_features=32, out_features=32, bias=True)\n",
       "      (3): LeakyReLU(negative_slope=0.01)\n",
       "      (4): Linear(in_features=32, out_features=1, bias=True)\n",
       "      (5): LeakyReLU(negative_slope=0.01)\n",
       "    )\n",
       "  )\n",
       "  (Weather_Module): Spatial_Attention_Block(\n",
       "    (activation): LeakyReLU(negative_slope=0.01)\n",
       "    (topo_embeddings): Sequential(\n",
       "      (0): Linear(in_features=3, out_features=32, bias=True)\n",
       "      (1): LeakyReLU(negative_slope=0.01)\n",
       "    )\n",
       "    (value_embeddings): Sequential(\n",
       "      (0): Linear(in_features=23, out_features=32, bias=True)\n",
       "      (1): LeakyReLU(negative_slope=0.01)\n",
       "    )\n",
       "    (cb_multihead_att_1): MultiheadAttention(\n",
       "      (out_proj): NonDynamicallyQuantizableLinear(in_features=32, out_features=32, bias=True)\n",
       "    )\n",
       "    (norm_linear): Sequential(\n",
       "      (0): Linear(in_features=64, out_features=32, bias=True)\n",
       "      (1): LeakyReLU(negative_slope=0.01)\n",
       "      (2): Linear(in_features=32, out_features=32, bias=True)\n",
       "      (3): LeakyReLU(negative_slope=0.01)\n",
       "    )\n",
       "  )\n",
       "  (Fusion_Embedding): Sequential(\n",
       "    (0): Linear(in_features=64, out_features=64, bias=True)\n",
       "    (1): LeakyReLU(negative_slope=0.01)\n",
       "  )\n",
       "  (MHA_Block_0): MHA_Block(\n",
       "    (activation): LeakyReLU(negative_slope=0.01)\n",
       "    (mha): MultiheadAttention(\n",
       "      (out_proj): NonDynamicallyQuantizableLinear(in_features=64, out_features=64, bias=True)\n",
       "    )\n",
       "    (mlp): Sequential(\n",
       "      (0): Linear(in_features=64, out_features=64, bias=True)\n",
       "      (1): LeakyReLU(negative_slope=0.01)\n",
       "      (2): Linear(in_features=64, out_features=64, bias=True)\n",
       "    )\n",
       "  )\n",
       "  (linear): Sequential(\n",
       "    (0): Linear(in_features=64, out_features=32, bias=True)\n",
       "    (1): LeakyReLU(negative_slope=0.01)\n",
       "  )\n",
       "  (output): Sequential(\n",
       "    (0): Linear(in_features=32, out_features=32, bias=True)\n",
       "    (1): LeakyReLU(negative_slope=0.01)\n",
       "    (2): Linear(in_features=32, out_features=1, bias=True)\n",
       "  )\n",
       ")"
      ]
     },
     "execution_count": 59,
     "metadata": {},
     "output_type": "execute_result"
    }
   ],
   "source": [
    "model_name_path = \"model_SparseData_Transformer_20250717_171819\" #\" model_ViViT_STMoE_20250626_123108\"\n",
    "model_path = f\"/leonardo_scratch/fast/IscrC_DL4EO/results/results_SparseData/models/{model_name_path}.pt\"\n",
    "model.load_state_dict(torch.load(model_path, weights_only=True, map_location=torch.device('cpu')))\n",
    "model.eval()"
   ]
  },
  {
   "cell_type": "code",
   "execution_count": 60,
   "metadata": {},
   "outputs": [
    {
     "name": "stdout",
     "output_type": "stream",
     "text": [
      "Computing Causal-Mask...\n"
     ]
    },
    {
     "name": "stderr",
     "output_type": "stream",
     "text": [
      "100%|██████████| 5/5 [00:04<00:00,  1.19it/s]\n"
     ]
    }
   ],
   "source": [
    "date = \"2020-01-05\"\n",
    "twindow = 5\n",
    "lat_points = 30\n",
    "lon_points = 45\n",
    "z_grid = plot.grid_generation(ds, lat_points,lon_points)\n",
    "Y_test, Y_hat_test = plot.compute_predictions(start_date = np.datetime64(date),\n",
    "                                        twindow = twindow,\n",
    "                                        model = model,\n",
    "                                        device = device,\n",
    "                                        dataset = ds,\n",
    "                                        Z_grid = z_grid,\n",
    "                                        eval = True)"
   ]
  },
  {
   "cell_type": "code",
   "execution_count": 61,
   "metadata": {},
   "outputs": [],
   "source": [
    "coords = z_grid.reshape(lat_points,lon_points,3)\n",
    "Y_hat_test_grid = Y_hat_test.reshape(twindow,lat_points,lon_points)\n",
    "Y_hat_test_grid = (Y_hat_test_grid * ds.norm_factors[\"target_stds\"]) + ds.norm_factors[\"target_means\"]"
   ]
  },
  {
   "cell_type": "code",
   "execution_count": 66,
   "metadata": {},
   "outputs": [
    {
     "data": {
      "text/plain": [
       "<matplotlib.colorbar.Colorbar at 0x7ef8cfd11b50>"
      ]
     },
     "execution_count": 66,
     "metadata": {},
     "output_type": "execute_result"
    },
    {
     "data": {
      "image/png": "[encoded data removed]",
      "text/plain": [
       "<Figure size 640x480 with 2 Axes>"
      ]
     },
     "metadata": {},
     "output_type": "display_data"
    }
   ],
   "source": [
    "plt.imshow(Y_hat_test_grid[3,:,:])\n",
    "plt.colorbar()"
   ]
  },
  {
   "cell_type": "markdown",
   "metadata": {},
   "source": [
    "# Loss"
   ]
  },
  {
   "cell_type": "code",
   "execution_count": 84,
   "metadata": {},
   "outputs": [
    {
     "data": {
      "text/plain": [
       "<module 'loss.losses_SparseData' from '/leonardo_scratch/fast/IscrC_DL4EO/github/water-pinns/src/loss/losses_SparseData.py'>"
      ]
     },
     "execution_count": 84,
     "metadata": {},
     "output_type": "execute_result"
    }
   ],
   "source": [
    "from loss import losses_SparseData\n",
    "importlib.reload(losses_SparseData)"
   ]
  },
  {
   "cell_type": "code",
   "execution_count": 78,
   "metadata": {},
   "outputs": [],
   "source": [
    "batch_s = 5\n",
    "x_batch = torch.stack([ds[i][0] for i in range(batch_s)], dim = 0)\n",
    "z_batch = torch.stack([ds[i][1] for i in range(batch_s)], dim = 0)\n",
    "w0_batch = torch.stack([ds[0][2][0] for i in range(batch_s)], dim = 0)\n",
    "w1_batch = torch.stack([ds[0][2][1] for i in range(batch_s)], dim = 0)\n",
    "w_batch = [w0_batch, w1_batch]\n",
    "true_batch = torch.stack([ds[i][-3] for i in range(batch_s)], dim = 0)\n",
    "xmask_batch = torch.stack([ds[i][-2] for i in range(batch_s)], dim = 0)\n",
    "ymask_batch = torch.stack([ds[i][-1] for i in range(batch_s)], dim = 0)"
   ]
  },
  {
   "cell_type": "code",
   "execution_count": 72,
   "metadata": {},
   "outputs": [],
   "source": [
    "model.train()\n",
    "out_batch = model(x_batch,\n",
    "                  z_batch,\n",
    "                  w_batch,\n",
    "                  xmask_batch,\n",
    "                       teacher_forcing = True)"
   ]
  },
  {
   "cell_type": "code",
   "execution_count": 77,
   "metadata": {},
   "outputs": [
    {
     "data": {
      "text/plain": [
       "torch.Size([5, 26, 28])"
      ]
     },
     "execution_count": 77,
     "metadata": {},
     "output_type": "execute_result"
    }
   ],
   "source": [
    "out_batch.shape"
   ]
  },
  {
   "cell_type": "code",
   "execution_count": 76,
   "metadata": {},
   "outputs": [
    {
     "data": {
      "text/plain": [
       "torch.Size([5, 26, 28])"
      ]
     },
     "execution_count": 76,
     "metadata": {},
     "output_type": "execute_result"
    }
   ],
   "source": [
    "true_batch.shape"
   ]
  },
  {
   "cell_type": "code",
   "execution_count": 87,
   "metadata": {},
   "outputs": [
    {
     "data": {
      "text/plain": [
       "tensor([[1.9094e+03, 0.0000e+00, 0.0000e+00, 2.2233e+02, 0.0000e+00, 0.0000e+00,\n",
       "         0.0000e+00, 3.1848e+02, 0.0000e+00, 6.7652e+01, 6.7779e+00, 3.7836e+03,\n",
       "         0.0000e+00, 0.0000e+00, 7.3086e+01, 3.3701e+02, 2.0609e+01, 0.0000e+00,\n",
       "         2.2883e+01, 1.7994e+01, 1.7646e+02, 0.0000e+00, 0.0000e+00, 1.8621e+02,\n",
       "         3.6753e+02, 0.0000e+00, 5.1869e+02, 0.0000e+00],\n",
       "        [4.3228e+03, 0.0000e+00, 0.0000e+00, 2.0346e+02, 0.0000e+00, 0.0000e+00,\n",
       "         0.0000e+00, 1.9890e+02, 0.0000e+00, 3.9974e+01, 3.8065e+00, 3.7913e+03,\n",
       "         0.0000e+00, 0.0000e+00, 7.6249e+01, 1.0300e+03, 4.1789e+01, 0.0000e+00,\n",
       "         2.0949e+01, 5.4265e+01, 6.2384e+02, 0.0000e+00, 0.0000e+00, 2.1116e+02,\n",
       "         1.0784e+02, 0.0000e+00, 4.2231e+02, 0.0000e+00],\n",
       "        [1.1107e+03, 0.0000e+00, 0.0000e+00, 4.7926e+01, 0.0000e+00, 0.0000e+00,\n",
       "         0.0000e+00, 1.1028e+02, 0.0000e+00, 1.0242e+02, 3.4204e+00, 3.0884e+03,\n",
       "         0.0000e+00, 0.0000e+00, 8.9599e+01, 4.1762e+03, 2.0330e+01, 0.0000e+00,\n",
       "         1.0230e+02, 1.5777e+01, 1.1772e+02, 0.0000e+00, 0.0000e+00, 2.0586e+02,\n",
       "         8.5197e+02, 0.0000e+00, 2.6609e+02, 6.6053e+02],\n",
       "        [3.7405e+02, 0.0000e+00, 0.0000e+00, 7.7679e+01, 0.0000e+00, 0.0000e+00,\n",
       "         0.0000e+00, 6.8852e+01, 0.0000e+00, 4.2085e+01, 1.1481e+01, 2.4874e+03,\n",
       "         0.0000e+00, 0.0000e+00, 2.4012e+01, 9.2146e+02, 1.5718e+01, 0.0000e+00,\n",
       "         4.8468e+01, 2.3301e+00, 1.0463e+02, 0.0000e+00, 0.0000e+00, 1.3716e+02,\n",
       "         4.2407e+02, 0.0000e+00, 4.1264e+02, 2.3423e+03],\n",
       "        [4.3515e+03, 0.0000e+00, 0.0000e+00, 1.3122e+02, 0.0000e+00, 0.0000e+00,\n",
       "         0.0000e+00, 1.8787e+02, 0.0000e+00, 3.0788e+01, 1.8928e+00, 3.2341e+03,\n",
       "         0.0000e+00, 0.0000e+00, 8.4357e+01, 4.1778e+02, 1.5499e+02, 0.0000e+00,\n",
       "         1.8412e+01, 1.0642e+01, 3.3677e+02, 0.0000e+00, 0.0000e+00, 1.8568e+02,\n",
       "         5.9601e+01, 0.0000e+00, 3.8587e+01, 1.0489e+02]],\n",
       "       grad_fn=<WhereBackward0>)"
      ]
     },
     "execution_count": 87,
     "metadata": {},
     "output_type": "execute_result"
    }
   ],
   "source": [
    "point_h2(out_batch, true_batch, ymask_batch, torch.sum(ymask_batch, dim = 1))"
   ]
  },
  {
   "cell_type": "code",
   "execution_count": 86,
   "metadata": {},
   "outputs": [
    {
     "data": {
      "text/plain": [
       "tensor(602.4407, grad_fn=<DivBackward0>)"
      ]
     },
     "execution_count": 86,
     "metadata": {},
     "output_type": "execute_result"
    }
   ],
   "source": [
    "losses_SparseData.loss_masked_h2(out_batch, true_batch, ymask_batch)"
   ]
  },
  {
   "cell_type": "code",
   "execution_count": 85,
   "metadata": {},
   "outputs": [
    {
     "data": {
      "text/plain": [
       "tensor(0.0293, grad_fn=<DivBackward0>)"
      ]
     },
     "execution_count": 85,
     "metadata": {},
     "output_type": "execute_result"
    }
   ],
   "source": [
    "losses_SparseData.loss_masked_nse(out_batch, true_batch, ymask_batch)"
   ]
  }
 ],
 "metadata": {
  "kernelspec": {
   "display_name": "my_venv_fast",
   "language": "python",
   "name": "python3"
  },
  "language_info": {
   "codemirror_mode": {
    "name": "ipython",
    "version": 3
   },
   "file_extension": ".py",
   "mimetype": "text/x-python",
   "name": "python",
   "nbconvert_exporter": "python",
   "pygments_lexer": "ipython3",
   "version": "3.11.6"
  }
 },
 "nbformat": 4,
 "nbformat_minor": 2
}
